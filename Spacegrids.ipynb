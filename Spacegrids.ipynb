{
 "metadata": {
  "name": "",
  "signature": "sha256:0666197ce9ec4eb18d8ff3f029d4c1eea93ad64e361b513e24efa02ea00b77f3"
 },
 "nbformat": 3,
 "nbformat_minor": 0,
 "worksheets": [
  {
   "cells": [
    {
     "cell_type": "markdown",
     "metadata": {},
     "source": [
      "Spacegrids Documentation\n",
      "========================\n",
      "\n",
      "Spacegrids is an open source library providing a Numpy array with grids, labelled axes and associated grid-related methods such as regridding and integration. Spacegrids provides an object data model of Netcdf data that ensures consistency between a Numpy data array and its grid under common operations (and so avoiding common pitfalls related to axis interpretation), and much more. It is a write less do more library for everyday use. These <a href=\"http://willospace.pythonanywhere.com/\">Interactive Netcdf data plots using d3.js</a> are based on Spacegrids.\n",
      "\n",
      "\n",
      "The Spacegrids module is a bit like \"Numpy on grids\". It allows code like:\n",
      "\n",
      "    TEMP = P['some_dataset']['temperature']\n",
      "    V = P['some_dataset']['y_velocity'] \n",
      "    TV = TEMP*V\n",
      "    zonal_mean_TV = TV.mean(X)\n",
      "    TEMP2 = P['some_other_dataset']['temperature'] # defined on a different grid\n",
      "    deltaTEMP = TEMP - TEMP2.regrid(TEMP.grid)\n",
      "    \n",
      "It allows easy manipulation of spatial data, for instance a spatial grid of discrete latitude-longitude-depth coordinates covering the Earth's surface. This type of data is often stored in Netcdf file format, and indexed according to axes that are fully described in the Netcdf metadata. This allows interpretation of the data, consisting of the construction of axis and grid objects to be linked with a ```Field```. This contains the data array (e.g. temperature) when loading data into memory. Axis alignment upon multiplication and other operations with fields is then automatic, and no knowledge is required of the data index order. The module maintains a focus on notational simplicity, ease of use and maintenance of consistency between data and grid information under data manipulation. New coordinate objects and grids can be naturally constructed from experiment parameters or aggregated data values.\n",
      "\n",
      "Features\n",
      "--------\n",
      "\n",
      "- A numpy array with grid allowing automatic alignment and dimension broadcasting\n",
      "- Easy to use and intuitive regridding functionality\n",
      "- A data object model corresponding closely to Netcdf\n",
      "- Easier IO via abstraction of IO with multiple Netcdf files\n",
      "- Makes working with output of many experiments easy via aggregation methods\n",
      "- The ```Field``` class eliminates errors arising from picking the wrong array index\n",
      "- Quicker plotting due to automatic labels, axes etc.\n",
      "- Distance-related methods such as spatial differentiation and integration on sphere\n",
      "- Extensive unit tests and documentation\n",
      "\n",
      "There is lots of documentation, both in the source code and elsewhere. Other documentation can be found at: \n",
      "<ul>\n",
      "    <li><a href='http://nbviewer.ipython.org/github/willo12/spacegrids/blob/master/advanced.ipynb'> Avanced tutorial </a></li>\n",
      "    <li><a href=\"http://web.maths.unsw.edu.au/~wsijp/html/index.html\">Documentation of all classes, methods and functions</a></li>\n",
      "</ul>\n",
      "    \n",
      "Installation\n",
      "------------\n",
      "\n",
      "Install spacegrids simply by running (on command line):\n",
      "\n",
      "    pip install spacegrids\n",
      "\n",
      "On Mac, pip can be installed via \"sudo easy_install pip\". On Ubuntu/ Debian, install dependencies via package manager if pip install fails:\n",
      "\n",
      "    apt-get install python-{tk,numpy,matplotlib,scipy}\n",
      "\n",
      "\n",
      "License\n",
      "-------\n",
      "\n",
      "The project is licensed under the BSD license.\n",
      "\n",
      "\n",
      "Tutorial\n",
      "--------\n",
      "\n",
      "\n",
      "In this tutorial, we will analyse some real output from the <a href='http://climate.uvic.ca/model/'> UVic climate model</a>. We will compare ocean temperatures and circulation between the imaginary case where the Drake Passage (between Antarctica and South America) is closed, and one where it is open (as it is today). I am interested to hear feedback, and you are welcome to e-mail me. "
     ]
    },
    {
     "cell_type": "heading",
     "level": 1,
     "metadata": {},
     "source": [
      "Data files and initializing a project"
     ]
    },
    {
     "cell_type": "heading",
     "level": 3,
     "metadata": {},
     "source": [
      "Data on disk"
     ]
    },
    {
     "cell_type": "markdown",
     "metadata": {},
     "source": [
      "Before using the spacegrids module for data analysis, some minimal organizing of your Netcdf data files inside directories is helpful. The module looks for projects inside the ```~/PROJECTS``` directory tree. Create ```~/PROJECTS``` and mark a subdirectory of ```~/PROJECTS```, say ```test_project``` as a project directory simply by including a text file named projname containing the name of the project (e.g. ```echo foo > projname ``` for a project named foo). Passing the ```nonick = True``` argument to ```sg.info``` and ```sg.Project``` removes the need for the projname file (see below). This is recommended for initial use. Subdirectories, and Netcdf files placed alongside them, in such a project directory (```test_project```) are interpreted as experiment output. So both a directory and a Netcdf file can be associated with an experiment. The case where a subdirectory represents an experiment allows the added advantage of being able to store the configuration files that were used by the numerical (Fortran or C) experiments alongside their Netcdf output files. There is a natural framework in spacegrids for parsing these configuration files and adding the parameters to ```exper``` objects, allowing the subsequent creation of new coord and axis objects across experiments from these parameters (e.g. CO2 concentrations, specified in the configuration file, might vary across experiments: maybe you would like to see how the average air temp and other quantities depend on it, casting pCO2 as a ```Coord```). However, basic productive use of spacegrids is much simpler than this.\n",
      "\n",
      "We will analyze some climate model data using a ```~/PROJECTS``` tree containing two numerical model output files (experiments) and one file containing observational data (also captured in an experiment object), in this case each placed within their own experiment directory. This example project tree can be obtained by: wget  http://web.science.unsw.edu.au/~wsijp/code/examples.tar.gz. (Unpacking is done inside the ```$HOME``` directory using tar xvzf examples.tar.gz, unless a different root path is set.) This provides a project called ```test_project``` (note the text file called projname). The UVic climate model output consists of equilibrium fields where the model has been run with two geographic configurations. One where the Drake Passage has been closed by introducing an artificial land bridge (the ```DPC``` subdirectory), and one where the passage remains open (the ```DPO``` subdirectory).  In addition, there is some observational data, the file ```Lev.cdf``` placed alongside the two experiment directories, to compare the model results to. "
     ]
    },
    {
     "cell_type": "heading",
     "level": 3,
     "metadata": {},
     "source": [
      "Getting started"
     ]
    },
    {
     "cell_type": "markdown",
     "metadata": {},
     "source": [
      "With the directory tree in place, we can start analyzing the data."
     ]
    },
    {
     "cell_type": "code",
     "collapsed": false,
     "input": [
      "import spacegrids as sg"
     ],
     "language": "python",
     "metadata": {},
     "outputs": [],
     "prompt_number": 1
    },
    {
     "cell_type": "code",
     "collapsed": false,
     "input": [
      "import numpy as np\n",
      "import matplotlib.pyplot as plt\n",
      "figsize(8, 4)"
     ],
     "language": "python",
     "metadata": {},
     "outputs": [],
     "prompt_number": 2
    },
    {
     "cell_type": "heading",
     "level": 3,
     "metadata": {},
     "source": [
      "Overview of the available data"
     ]
    },
    {
     "cell_type": "markdown",
     "metadata": {},
     "source": [
      "The info function returns a dictionary of all the available project names and their paths. Here, we have one project (named ```my_project```). Make sure there is at least one project listed when following these examples. "
     ]
    },
    {
     "cell_type": "code",
     "collapsed": false,
     "input": [
      "D = sg.info_dict()"
     ],
     "language": "python",
     "metadata": {},
     "outputs": [],
     "prompt_number": 3
    },
    {
     "cell_type": "code",
     "collapsed": false,
     "input": [
      "D"
     ],
     "language": "python",
     "metadata": {},
     "outputs": [
      {
       "metadata": {},
       "output_type": "pyout",
       "prompt_number": 4,
       "text": [
        "{'my_project': '/home/wim/PROJECTS/test_project/'}"
       ]
      }
     ],
     "prompt_number": 4
    },
    {
     "cell_type": "markdown",
     "metadata": {},
     "source": [
      "Using ```ls``` to examine the project directory content for ```test_project```, we see two experiment directories and one Netcdf file. The sg module will interpret all three as experiment objects. "
     ]
    },
    {
     "cell_type": "code",
     "collapsed": false,
     "input": [
      "ls /home/wim/PROJECTS/test_project/"
     ],
     "language": "python",
     "metadata": {},
     "outputs": [
      {
       "output_type": "stream",
       "stream": "stdout",
       "text": [
        "\u001b[0m\u001b[01;34mDPC\u001b[0m/  \u001b[01;34mDPO\u001b[0m/  \u001b[01;32mLev.cdf\u001b[0m*  projname\r\n"
       ]
      }
     ],
     "prompt_number": 5
    },
    {
     "cell_type": "markdown",
     "metadata": {},
     "source": [
      "To obtain a summary of the available projects while obtaining the paths, use ```D = sg.info()```. To start a project instance, named ```P```, it is easy to use:"
     ]
    },
    {
     "cell_type": "code",
     "collapsed": false,
     "input": [
      "P = sg.Project(D['my_project'])"
     ],
     "language": "python",
     "metadata": {},
     "outputs": [
      {
       "output_type": "stream",
       "stream": "stdout",
       "text": [
        "Creating exp object DPO from /home/wim/PROJECTS/test_project/\n",
        "Creating exp object DPC from /home/wim/PROJECTS/test_project/"
       ]
      },
      {
       "output_type": "stream",
       "stream": "stdout",
       "text": [
        "\n",
        "Creating exp object Lev.cdf from /home/wim/PROJECTS/test_project/"
       ]
      },
      {
       "output_type": "stream",
       "stream": "stdout",
       "text": [
        "\n",
        "OK. Inferring direction from dimension name X itself. Renaming Coord to X_crd. \n",
        "OK. Inferring direction from dimension name Z itself. Renaming Coord to Z_crd. \n",
        "OK. Inferring direction from dimension name Y itself. Renaming Coord to Y_crd. \n"
       ]
      },
      {
       "output_type": "stream",
       "stream": "stderr",
       "text": [
        " spacegrids/fieldcls.py:4507: UserWarning:(mild): no units assigned to pft in cdfsniff \n",
        " spacegrids/fieldcls.py:4507: UserWarning:(mild): no units assigned to type in cdfsniff \n",
        " spacegrids/fieldcls.py:4507: UserWarning:(mild): no units assigned to pft_edges in cdfsniff \n",
        " spacegrids/fieldcls.py:4507: UserWarning:(mild): no units assigned to type_edges in cdfsniff \n"
       ]
      }
     ],
     "prompt_number": 6
    },
    {
     "cell_type": "markdown",
     "metadata": {},
     "source": [
      "Ignore the harmless warnings. They relate to the interpretation of the axes and dimension names found in the Netcdf files. Note that the ```Lev.cdf``` experiment object is named after the file, whereas the other two are named after the directories. Passing the nonick = True option would have been: ```D = sg.info(nonick=True)``` and ```P = sg.Project(D['my_project'],nonick = True)```. In this case, no projname file would be required, and the project would receive the same name as the directory, unless the ```name``` is specified.  Upon project initialization, meta data associated with the grids, dimensions and axis directions is collected from the data files and interpreted. The project is now initialized. Subdirectories of the ```test_project``` directory correspond to (numerical) experiments and also ```Exper``` objects. If Netcdf files had been present in the ```test_project``` directory, they would have been interpreted as experiments. In this case, an ```Exper``` object (experiments) corresponds not to subdirectory, but a single Netcdf file. This latter arrangement corresponds to the structure of a project saved with ```P.write()```, where all experiments are written to experiment files. If a path to a file (not project directory) is provided to ```sg.Project```, a project is initialised assuming all project is contained in that single file."
     ]
    },
    {
     "cell_type": "heading",
     "level": 1,
     "metadata": {},
     "source": [
      "The Field class"
     ]
    },
    {
     "cell_type": "heading",
     "level": 3,
     "metadata": {},
     "source": [
      "Fields and their grids"
     ]
    },
    {
     "cell_type": "markdown",
     "metadata": {},
     "source": [
      "To look at an example of fields (e.g. temperature or humidity), it is best to load one into the project."
     ]
    },
    {
     "cell_type": "code",
     "collapsed": false,
     "input": [
      "P.load('O_temp')"
     ],
     "language": "python",
     "metadata": {},
     "outputs": [
      {
       "output_type": "stream",
       "stream": "stdout",
       "text": [
        "OK. Fetched Field O_temp for DPO. 1 file found.\n",
        "OK. Fetched Field O_temp for DPC. 1 file found.\n",
        "O_temp for Lev.cdf could not be read."
       ]
      },
      {
       "output_type": "stream",
       "stream": "stdout",
       "text": [
        "\n"
       ]
      }
     ],
     "prompt_number": 7
    },
    {
     "cell_type": "markdown",
     "metadata": {},
     "source": [
      "\n",
      "\n",
      "The ocean temperature ```Field``` is now loaded into memory and associated with the project P. How do you know what variable name to pick? Inspection on the Bash command line of the Netcdf file with ```ncdump -h``` usually provides this information. Alternatively, experiments have an ls function: ```P['DPO'].ls()``` would yield a long list of available variables to be loaded as fields."
     ]
    },
    {
     "cell_type": "markdown",
     "metadata": {},
     "source": [
      "Notice that ```O_temp``` has not been loaded for Lev. This is because the Netcdf file inside the ```Lev``` directory follows different naming conventions. Inspection of the Netcdf file in the ```Lev``` directory reveals that temperature is referred to as ```otemp```. To load it, we use:"
     ]
    },
    {
     "cell_type": "code",
     "collapsed": false,
     "input": [
      "P.load('theta')"
     ],
     "language": "python",
     "metadata": {},
     "outputs": [
      {
       "output_type": "stream",
       "stream": "stderr",
       "text": [
        " spacegrids/fieldcls.py:4689: RuntimeWarning:invalid value encountered in equal \n",
        " spacegrids/fieldcls.py:4689: RuntimeWarning:invalid value encountered in isnan \n"
       ]
      },
      {
       "output_type": "stream",
       "stream": "stdout",
       "text": [
        "theta for DPO could not be read.\n",
        "theta for DPC could not be read.\n",
        "OK. Fetched Field theta for Lev.cdf. 1 file found."
       ]
      },
      {
       "output_type": "stream",
       "stream": "stdout",
       "text": [
        "\n"
       ]
      },
      {
       "output_type": "stream",
       "stream": "stderr",
       "text": [
        " spacegrids/fieldcls.py:4708: RuntimeWarning:invalid value encountered in equal \n"
       ]
      }
     ],
     "prompt_number": 8
    },
    {
     "cell_type": "markdown",
     "metadata": {},
     "source": [
      "Now all three temperature fields are loaded. We access the temperature fields of the ```DPO``` experiment and the observations ```Lev``` and test resulting field instances:"
     ]
    },
    {
     "cell_type": "code",
     "collapsed": false,
     "input": [
      "TEMP = P['DPO']['O_temp'] \n",
      "TEMP2 = P['Lev.cdf']['theta']\n",
      "\n",
      "TEMP # a field"
     ],
     "language": "python",
     "metadata": {},
     "outputs": [
      {
       "metadata": {},
       "output_type": "pyout",
       "prompt_number": 9,
       "text": [
        "O_temp"
       ]
      }
     ],
     "prompt_number": 9
    },
    {
     "cell_type": "markdown",
     "metadata": {},
     "source": [
      "The shape of a ```Field``` corresponds to the shape of the Numpy array it contains and is consistent with the shape of its grid:"
     ]
    },
    {
     "cell_type": "code",
     "collapsed": false,
     "input": [
      "TEMP.shape # show the shape of the numpy array containing the data. This is a 3D field"
     ],
     "language": "python",
     "metadata": {},
     "outputs": [
      {
       "metadata": {},
       "output_type": "pyout",
       "prompt_number": 10,
       "text": [
        "(19, 100, 100)"
       ]
      }
     ],
     "prompt_number": 10
    },
    {
     "cell_type": "code",
     "collapsed": false,
     "input": [
      "TEMP.grid # show the grid on which the temp data is defined"
     ],
     "language": "python",
     "metadata": {},
     "outputs": [
      {
       "metadata": {},
       "output_type": "pyout",
       "prompt_number": 11,
       "text": [
        "(depth, latitude, longitude)"
       ]
      }
     ],
     "prompt_number": 11
    },
    {
     "cell_type": "markdown",
     "metadata": {},
     "source": [
      "The names of the grid components depth, latitude and longitude correspond to the names used in the Netcdf file. For instance, there are different naming conventions for the Lev data:"
     ]
    },
    {
     "cell_type": "code",
     "collapsed": false,
     "input": [
      "TEMP2.grid"
     ],
     "language": "python",
     "metadata": {},
     "outputs": [
      {
       "metadata": {},
       "output_type": "pyout",
       "prompt_number": 12,
       "text": [
        "(Z_crd, Y_crd, X_crd)"
       ]
      }
     ],
     "prompt_number": 12
    },
    {
     "cell_type": "markdown",
     "metadata": {},
     "source": [
      "In fact, the ```Coord``` (dim) names in the Lev.cdf file were X, Y, Z, but since these names coincide with the axes names, they have been automatically renamed with the _crd suffix to distinguish them from the axes:"
     ]
    },
    {
     "cell_type": "code",
     "collapsed": false,
     "input": [
      "TEMP2.grid[0].axis"
     ],
     "language": "python",
     "metadata": {},
     "outputs": [
      {
       "metadata": {},
       "output_type": "pyout",
       "prompt_number": 13,
       "text": [
        "Z"
       ]
      }
     ],
     "prompt_number": 13
    },
    {
     "cell_type": "markdown",
     "metadata": {},
     "source": [
      "Fields can be saved to Netcdf again, along with all their metadata and coordinates via their write method, e.g. ```TEMP2.write()```. To specify the path for instance: ```TEMP2.write(path = '/home/me/')```. Experiment and coord objects also have save methods. In the case of an experiment, all loaded fields are saved to one file. An entire project can be saved with ```P.save()```, yielding a project file structure (directory containing a projname text file and Netcdf files corresponding to experiments). Generally, it is good to provide a ```name``` argument different from the project name, and safeguards exist to avoid overwriting the original project on disk, but no safeguards exist yet to check for multiple instances of the same project name (defined in the projname file): for now, this is up to the user to check. Finally, an arbitrary list of fields can be saved with ```sg.nugget```."
     ]
    },
    {
     "cell_type": "markdown",
     "metadata": {},
     "source": [
      "An overview of the experiments and loaded fields corresponding to the project are shown by:"
     ]
    },
    {
     "cell_type": "code",
     "collapsed": false,
     "input": [
      "P.show() # the registered experiments can be viewed here"
     ],
     "language": "python",
     "metadata": {},
     "outputs": [
      {
       "output_type": "stream",
       "stream": "stdout",
       "text": [
        "---- my_project ----\n",
        "DPC         \tDPO         \tLev.cdf     \n",
        "\n",
        "\n",
        "Project using 9.62 Mb.\n"
       ]
      }
     ],
     "prompt_number": 14
    },
    {
     "cell_type": "markdown",
     "metadata": {},
     "source": [
      "And for an experiment:"
     ]
    },
    {
     "cell_type": "code",
     "collapsed": false,
     "input": [
      "P['DPO'].show() # the loaded fields can be viewed here"
     ],
     "language": "python",
     "metadata": {},
     "outputs": [
      {
       "output_type": "stream",
       "stream": "stdout",
       "text": [
        "DPO\n",
        "----------\n",
        "O_temp                        \n",
        "\n",
        "Exper using 0.73 Mb. 1 field loaded.  \n"
       ]
      }
     ],
     "prompt_number": 15
    },
    {
     "cell_type": "heading",
     "level": 4,
     "metadata": {},
     "source": [
      "*** Warning: whenever the sg module is reloaded (e.g. with reload(sg)), all the above steps and the below steps need to be done again in sequence. Stale objects will lead to strange errors! ***"
     ]
    },
    {
     "cell_type": "heading",
     "level": 3,
     "metadata": {},
     "source": [
      "Slicing, plotting and interpolation"
     ]
    },
    {
     "cell_type": "markdown",
     "metadata": {},
     "source": [
      "Objects representing general coordinate directions (X,Y axes etc) have been constructed during initialization of project P, and can be accessed as follows:"
     ]
    },
    {
     "cell_type": "code",
     "collapsed": false,
     "input": [
      "P['DPO'].axes"
     ],
     "language": "python",
     "metadata": {},
     "outputs": [
      {
       "metadata": {},
       "output_type": "pyout",
       "prompt_number": 16,
       "text": [
        "[T, X, Y, Z]"
       ]
      }
     ],
     "prompt_number": 16
    },
    {
     "cell_type": "markdown",
     "metadata": {},
     "source": [
      "Bring these axes into the namespace under their own names:"
     ]
    },
    {
     "cell_type": "code",
     "collapsed": false,
     "input": [
      "for c in P['DPO'].axes:\n",
      "  exec c.name + ' = c'"
     ],
     "language": "python",
     "metadata": {},
     "outputs": [],
     "prompt_number": 17
    },
    {
     "cell_type": "markdown",
     "metadata": {},
     "source": [
      "So that we can reference them:"
     ]
    },
    {
     "cell_type": "code",
     "collapsed": false,
     "input": [
      "X"
     ],
     "language": "python",
     "metadata": {},
     "outputs": [
      {
       "metadata": {},
       "output_type": "pyout",
       "prompt_number": 18,
       "text": [
        "X"
       ]
      }
     ],
     "prompt_number": 18
    },
    {
     "cell_type": "markdown",
     "metadata": {},
     "source": [
      "Field objects allow slicing by reference to axis name and using ndarray index values. Here, we use the axis object, followed by a slice object (e.g. ```TEMP[X,5]``` or ```TEMP[Z,:]``` or ```TEMP[Y,55:]``` or ```TEMP[X,slice(55,None,None))]```. We will refer to the use of ```Ax``` and ```Coord``` objects in ```__getitem__``` as \"hybrid slice notation\". To plot the surface temperature using sg version of contourf:"
     ]
    },
    {
     "cell_type": "code",
     "collapsed": false,
     "input": [
      "sg.contourf(sg.squeeze(TEMP[Z,0]))\n",
      "clb = plt.colorbar()\n",
      "clb.set_label(TEMP.units)"
     ],
     "language": "python",
     "metadata": {},
     "outputs": [
      {
       "metadata": {},
       "output_type": "display_data",
       "png": "[encoded data removed]",
       "text": [
        "<matplotlib.figure.Figure at 0xafbf98ac>"
       ]
      }
     ],
     "prompt_number": 19
    },
    {
     "cell_type": "markdown",
     "metadata": {},
     "source": [
      "The sg module automatically selects sensible contour levels and x,y ticks. Versions older than 1.1.4 lack this functionality. The number of levels can be set using argument ```num_cont```. Alternatively, the Matplotlib levels arguments can be passed. Labels and orientation are extracted from the grid metadata. The field grid is used to extract plotting information, unless another grid is specified in the grid argument."
     ]
    },
    {
     "cell_type": "code",
     "collapsed": false,
     "input": [
      "sg.contourf(sg.squeeze(TEMP[X,50])) # a section at index 50.\n",
      "clb = plt.colorbar()\n",
      "clb.set_label(TEMP.units)"
     ],
     "language": "python",
     "metadata": {},
     "outputs": [
      {
       "metadata": {},
       "output_type": "display_data",
       "png": "[encoded data removed]",
       "text": [
        "<matplotlib.figure.Figure at 0xafbf9b8c>"
       ]
      }
     ],
     "prompt_number": 20
    },
    {
     "cell_type": "markdown",
     "metadata": {},
     "source": [
      "Slicing can also be done via indices using the normal ndarray notation:"
     ]
    },
    {
     "cell_type": "code",
     "collapsed": false,
     "input": [
      "(TEMP[0,:,:]).shape == (TEMP[Z,0]).shape"
     ],
     "language": "python",
     "metadata": {},
     "outputs": [
      {
       "metadata": {},
       "output_type": "pyout",
       "prompt_number": 21,
       "text": [
        "True"
       ]
      }
     ],
     "prompt_number": 21
    },
    {
     "cell_type": "markdown",
     "metadata": {},
     "source": [
      "Another note of warning on stale objects. Slicing using ```Ax``` objects is a common case where stale objects after a module reload lead to strange errors. If we were to reload the module in the above case, and bring the ```X```,```Y```,```Z```,```T``` ```Ax``` objects into the namespace again, but use the now stale old ```TEMP``` field, the above slicing with ```Z``` will lead to a perplexing error. All objects will need to be refreshed in this case, which means redoing all the previous steps. In most common cases a module reload is not required, and this type of confusion arises mostly in module code development situations.  "
     ]
    },
    {
     "cell_type": "markdown",
     "metadata": {},
     "source": [
      "The ```load``` method (of the Project and Exper classes) also allows memory loading of subsets of the data only by passing the ```slices``` argument: "
     ]
    },
    {
     "cell_type": "code",
     "collapsed": false,
     "input": [
      "P.load('O_sal',slices=(Z,0,X,50))"
     ],
     "language": "python",
     "metadata": {},
     "outputs": [
      {
       "output_type": "stream",
       "stream": "stdout",
       "text": [
        "OK. Fetched Field O_sal for DPO. 1 file found.\n",
        "OK. Fetched Field O_sal for DPC. 1 file found.\n",
        "O_sal for Lev.cdf could not be read.\n"
       ]
      }
     ],
     "prompt_number": 22
    },
    {
     "cell_type": "code",
     "collapsed": false,
     "input": [
      "P['DPO'].show()"
     ],
     "language": "python",
     "metadata": {},
     "outputs": [
      {
       "output_type": "stream",
       "stream": "stdout",
       "text": [
        "DPO\n",
        "----------\n",
        "O_temp                         O_sal_sliced                  \n",
        "\n",
        "Exper using 0.73 Mb. 2 fields loaded.  \n"
       ]
      }
     ],
     "prompt_number": 23
    },
    {
     "cell_type": "code",
     "collapsed": false,
     "input": [
      "P['DPO']['O_sal_sliced'].grid"
     ],
     "language": "python",
     "metadata": {},
     "outputs": [
      {
       "metadata": {},
       "output_type": "pyout",
       "prompt_number": 24,
       "text": [
        "(latitude)"
       ]
      }
     ],
     "prompt_number": 24
    },
    {
     "cell_type": "markdown",
     "metadata": {},
     "source": [
      "Means are calculated easily by division."
     ]
    },
    {
     "cell_type": "code",
     "collapsed": false,
     "input": [
      "# Determine zonal mean mT of TEMP.\n",
      "\n",
      "mTEMP = TEMP/X\n",
      "mTEMP2 = TEMP2/X"
     ],
     "language": "python",
     "metadata": {},
     "outputs": [
      {
       "output_type": "stream",
       "stream": "stderr",
       "text": [
        " spacegrids/fieldcls.py:3342: RuntimeWarning:invalid value encountered in multiply \n",
        " spacegrids/fieldcls.py:3505: RuntimeWarning:invalid value encountered in isnan \n"
       ]
      }
     ],
     "prompt_number": 25
    },
    {
     "cell_type": "markdown",
     "metadata": {},
     "source": [
      "Basin-wide means are calculated using the ```maskout``` method to mask out all values outside the domain enclosing the node (a x,y location) argument. ```maskout``` uses a floodfill algorithm to mask the basin up to its boundaries. Note the hybrid notation for the node coordinates."
     ]
    },
    {
     "cell_type": "code",
     "collapsed": false,
     "input": [
      "# mask out the world ocean outside the Atlantic with NaN and take zonal mean.\n",
      "\n",
      "mTEMP_masked=(TEMP[Y,33:].maskout(node = (X,85,Y,30) ) )/X # node is a point in the Atlantic"
     ],
     "language": "python",
     "metadata": {},
     "outputs": [],
     "prompt_number": 26
    },
    {
     "cell_type": "markdown",
     "metadata": {},
     "source": [
      "Plotting these two means for the upper 1600m or so:"
     ]
    },
    {
     "cell_type": "code",
     "collapsed": false,
     "input": [
      "\n",
      "# --- start figure ---\n",
      "\n",
      "lbl = ord('a')\n",
      "\n",
      "pan = 0\n",
      "\n",
      "height = 2\n",
      "width = 1\n",
      "\n",
      "rows = 2\n",
      "cols = 1\n",
      "\n",
      "\n",
      "ax = plt.subplot2grid((height, width), (int(np.floor(pan/cols)), pan%cols) )\n",
      "\n",
      "# use the sg wrapper for the contour function.\n",
      "cs= sg.contourf(mTEMP[Z,:10],linestyles='solid',showland=True); # slice only upper ocean\n",
      "plt.tick_params(axis='x',labelbottom='off')\n",
      "plt.xlabel('')\n",
      "plt.ylabel('Depth (m)')\n",
      "tle = plt.title('('+ chr(lbl) +') Global upper ocean temp ')\n",
      "\n",
      "lbl += 1\n",
      "pan += 1\n",
      "\n",
      "ax = plt.subplot2grid((height, width), (int(np.floor(pan/cols)), pan%cols) )\n",
      "\n",
      "cs= sg.contourf(mTEMP_masked[Z,:10],linestyles='solid',showland=True);  # slice only upper ocean\n",
      "\n",
      "# Overiding the xlabel assigned by sg:\n",
      "plt.xlabel('Latitude')\n",
      "tle = plt.title('('+ chr(lbl) +') Atlantic upper ocean temp ')"
     ],
     "language": "python",
     "metadata": {},
     "outputs": [
      {
       "metadata": {},
       "output_type": "display_data",
       "png": "[encoded data removed]",
       "text": [
        "<matplotlib.figure.Figure at 0xaf6e56ac>"
       ]
      }
     ],
     "prompt_number": 27
    },
    {
     "cell_type": "code",
     "collapsed": false,
     "input": [
      "mTEMP.grid  # the dimensionality of the zonal mean is less"
     ],
     "language": "python",
     "metadata": {},
     "outputs": [
      {
       "metadata": {},
       "output_type": "pyout",
       "prompt_number": 28,
       "text": [
        "(depth, latitude)"
       ]
      }
     ],
     "prompt_number": 28
    },
    {
     "cell_type": "markdown",
     "metadata": {},
     "source": [
      "A calculated field such as ```mTEMP``` can be inserted into the project using the ```insert``` method. This is generally not needed, but can be useful when the project or experiment is later written to disk. The insert method takes (name,value) pairs. If the value is a field, it is inserted into the ```vars``` attribute under ```name```, otherwise into ```params```."
     ]
    },
    {
     "cell_type": "code",
     "collapsed": false,
     "input": [
      "P['DPO'].insert( ('mtemp', mTEMP ) )"
     ],
     "language": "python",
     "metadata": {},
     "outputs": [],
     "prompt_number": 29
    },
    {
     "cell_type": "markdown",
     "metadata": {},
     "source": [
      "Now, ```mtemp``` is part of the DPO experiment:"
     ]
    },
    {
     "cell_type": "code",
     "collapsed": false,
     "input": [
      "P['DPO'].show()"
     ],
     "language": "python",
     "metadata": {},
     "outputs": [
      {
       "output_type": "stream",
       "stream": "stdout",
       "text": [
        "DPO\n",
        "----------\n",
        "O_temp                         O_sal_sliced                  \n",
        "mtemp                         \n",
        "\n",
        "Exper using 0.73 Mb. 3 fields loaded.  \n"
       ]
      }
     ],
     "prompt_number": 30
    },
    {
     "cell_type": "markdown",
     "metadata": {},
     "source": [
      "To see the effect of opening Drake Passage in the climate model: "
     ]
    },
    {
     "cell_type": "code",
     "collapsed": false,
     "input": [
      "sg.contourf(sg.squeeze(P['DPO']['O_temp'][Z,0]-P['DPC']['O_temp'][Z,0]),cmap = mpl.cm.RdYlBu_r,levels = range(-8,9,1))\n",
      "clb = plt.colorbar(ticks = range(-8,9,2))\n",
      "clb.set_label(TEMP.units)"
     ],
     "language": "python",
     "metadata": {},
     "outputs": [
      {
       "metadata": {},
       "output_type": "display_data",
       "png": "[encoded data removed]",
       "text": [
        "<matplotlib.figure.Figure at 0xaf981fac>"
       ]
      }
     ],
     "prompt_number": 31
    },
    {
     "cell_type": "markdown",
     "metadata": {},
     "source": [
      "Data is generally defined on different grids, so interpolation is needed. In our example, the observations are defined on a finer grid than the model data:"
     ]
    },
    {
     "cell_type": "code",
     "collapsed": false,
     "input": [
      "TEMP2.shape"
     ],
     "language": "python",
     "metadata": {},
     "outputs": [
      {
       "metadata": {},
       "output_type": "pyout",
       "prompt_number": 32,
       "text": [
        "(33, 180, 360)"
       ]
      }
     ],
     "prompt_number": 32
    },
    {
     "cell_type": "markdown",
     "metadata": {},
     "source": [
      "To overlay a plot of the model geography on atmospheric fields, we can load the ocean bathymetry field G_kmt, interpolate it on a finer grid with ```sg.finer_field``` (to avoid angled contours and show true resolution) and use contour plot over the 0.5 contour to capture the transition from land (value 0) to ocean(values 1 to 19). Here, we overlay this geographic outline over sea level air temperature:"
     ]
    },
    {
     "cell_type": "code",
     "collapsed": false,
     "input": [
      "P.load(['G_kmt','A_slat'])\n",
      "KMT = P['DPO']['G_kmt']\n",
      "SAT = P['DPO']['A_slat']\n",
      "nc = 10\n",
      "sg.contourf(SAT, num_cont = nc,cmap = mpl.cm.RdYlBu_r)\n",
      "cs=sg.contour(SAT,linestyles='solid', num_cont = nc, colors = 'k')\n",
      "plt.clabel(cs,fmt='%1.0f')\n",
      "sg.contour(sg.finer_field(KMT), colors='k',levels=[0.5,]  )"
     ],
     "language": "python",
     "metadata": {},
     "outputs": [
      {
       "output_type": "stream",
       "stream": "stdout",
       "text": [
        "OK. Fetched Field G_kmt for DPO. 1 file found.\n",
        "OK. Fetched Field G_kmt for DPC. 1 file found.\n",
        "G_kmt for Lev.cdf could not be read.\n",
        "OK. Fetched Field A_slat for DPO. 1 file found."
       ]
      },
      {
       "output_type": "stream",
       "stream": "stdout",
       "text": [
        "\n",
        "OK. Fetched Field A_slat for DPC. 1 file found.\n",
        "A_slat for Lev.cdf could not be read.\n"
       ]
      },
      {
       "output_type": "stream",
       "stream": "stderr",
       "text": [
        " spacegrids/fieldcls.py:4711: UserWarning:missing value not set to NaN. \n"
       ]
      },
      {
       "metadata": {},
       "output_type": "pyout",
       "prompt_number": 33,
       "text": [
        "<matplotlib.contour.QuadContourSet instance at 0xaed210ac>"
       ]
      },
      {
       "output_type": "stream",
       "stream": "stderr",
       "text": [
        " /usr/local/lib/python2.7/dist-packages/matplotlib/text.py:52: UnicodeWarning:Unicode equal comparison failed to convert both arguments to Unicode - interpreting them as being unequal \n",
        " /usr/local/lib/python2.7/dist-packages/matplotlib/text.py:54: UnicodeWarning:Unicode equal comparison failed to convert both arguments to Unicode - interpreting them as being unequal \n"
       ]
      },
      {
       "metadata": {},
       "output_type": "display_data",
       "png": "[encoded data removed]",
       "text": [
        "<matplotlib.figure.Figure at 0xaf6e554c>"
       ]
      }
     ],
     "prompt_number": 33
    },
    {
     "cell_type": "markdown",
     "metadata": {},
     "source": [
      "To interpolate a field ```F``` in Spacegrids, simply call the ```regrid``` method of ```F``` on the desired grid ```gr``` as ```F(gr)```. For instance, to compute the difference between the zonal mean of the model and the observations:"
     ]
    },
    {
     "cell_type": "code",
     "collapsed": false,
     "input": [
      "dmTEMP = mTEMP.regrid(mTEMP2.grid) - mTEMP2"
     ],
     "language": "python",
     "metadata": {},
     "outputs": [],
     "prompt_number": 34
    },
    {
     "cell_type": "markdown",
     "metadata": {},
     "source": [
      "As a shorthand, call the regrid method simply by calling the field itself on the target grid:"
     ]
    },
    {
     "cell_type": "code",
     "collapsed": false,
     "input": [
      "dmTEMP = mTEMP(mTEMP2.grid) - mTEMP2"
     ],
     "language": "python",
     "metadata": {},
     "outputs": [],
     "prompt_number": 35
    },
    {
     "cell_type": "code",
     "collapsed": false,
     "input": [
      "cont_int = np.arange(-6.,6.,1.)\n",
      "cmap = mpl.cm.RdYlBu_r\t# Colormap red yellow blue reversed\n",
      "pl1 = sg.contourf(dmTEMP,  levels = cont_int, cmap = cmap);\n",
      "\n",
      "clb = plt.colorbar(ticks = cont_int)\n",
      "clb.set_label(TEMP.units)\n",
      "plt.xlim([-80.,70.])\n",
      "plt.xticks([-60,-30,0,30,60])\n",
      "plt.ylabel('Depth (m)')\n",
      "tle = plt.title(' Zonal avg. T difference model - observations')"
     ],
     "language": "python",
     "metadata": {},
     "outputs": [
      {
       "metadata": {},
       "output_type": "display_data",
       "png": "[encoded data removed]",
       "text": [
        "<matplotlib.figure.Figure at 0xaf70066c>"
       ]
      }
     ],
     "prompt_number": 36
    },
    {
     "cell_type": "markdown",
     "metadata": {},
     "source": [
      "The model is pretty good! It is generally a bit too warm (perhaps due to the use of post-industrialized CO2). The resulting grid is defined on that of ```Lev```:"
     ]
    },
    {
     "cell_type": "code",
     "collapsed": false,
     "input": [
      "dmTEMP.grid # the resulting grid is that of the Lev data"
     ],
     "language": "python",
     "metadata": {},
     "outputs": [
      {
       "metadata": {},
       "output_type": "pyout",
       "prompt_number": 37,
       "text": [
        "(Z_crd, Y_crd)"
       ]
      }
     ],
     "prompt_number": 37
    },
    {
     "cell_type": "markdown",
     "metadata": {},
     "source": [
      "We have seen that it is easy to regrid data. This is also the case for data defined on grids of different dimensions. The ocean exhibits siginificant variations from its mean with longitude, leading to differences in local climate. How would we compare the sea surface temperature to its zonal mean? The following is bound to give an error, as the zonal mean is defined on a different (smaller dimensional) grid than temperature:"
     ]
    },
    {
     "cell_type": "code",
     "collapsed": false,
     "input": [
      "sTEMP = TEMP[Z,0]# slice to obtain surface temperature \n",
      "dTEMP = sTEMP - mTEMP[Z,0]"
     ],
     "language": "python",
     "metadata": {},
     "outputs": [
      {
       "ename": "Exception",
       "evalue": "Field shape error in O_temp_sliced-O_temp_sliced with Field O_temp_sliced: shapes must match. Try F - G(F.grid) or F(G.grid) - G.",
       "output_type": "pyerr",
       "traceback": [
        "\u001b[1;31m---------------------------------------------------------------------------\u001b[0m\n\u001b[1;31mException\u001b[0m                                 Traceback (most recent call last)",
        "\u001b[1;32m<ipython-input-38-1428ceee0c29>\u001b[0m in \u001b[0;36m<module>\u001b[1;34m()\u001b[0m\n\u001b[0;32m      1\u001b[0m \u001b[0msTEMP\u001b[0m \u001b[1;33m=\u001b[0m \u001b[0mTEMP\u001b[0m\u001b[1;33m[\u001b[0m\u001b[0mZ\u001b[0m\u001b[1;33m,\u001b[0m\u001b[1;36m0\u001b[0m\u001b[1;33m]\u001b[0m\u001b[1;31m# slice to obtain surface temperature\u001b[0m\u001b[1;33m\u001b[0m\u001b[0m\n\u001b[1;32m----> 2\u001b[1;33m \u001b[0mdTEMP\u001b[0m \u001b[1;33m=\u001b[0m \u001b[0msTEMP\u001b[0m \u001b[1;33m-\u001b[0m \u001b[0mmTEMP\u001b[0m\u001b[1;33m[\u001b[0m\u001b[0mZ\u001b[0m\u001b[1;33m,\u001b[0m\u001b[1;36m0\u001b[0m\u001b[1;33m]\u001b[0m\u001b[1;33m\u001b[0m\u001b[0m\n\u001b[0m",
        "\u001b[1;32m/home/wim/github/spacegrids/spacegrids/fieldcls.pyc\u001b[0m in \u001b[0;36m__sub__\u001b[1;34m(self, other)\u001b[0m\n\u001b[0;32m   3132\u001b[0m \u001b[1;33m\u001b[0m\u001b[0m\n\u001b[0;32m   3133\u001b[0m       \u001b[1;32melse\u001b[0m\u001b[1;33m:\u001b[0m\u001b[1;33m\u001b[0m\u001b[0m\n\u001b[1;32m-> 3134\u001b[1;33m         \u001b[1;32mraise\u001b[0m \u001b[0mException\u001b[0m\u001b[1;33m(\u001b[0m\u001b[1;34m'Field shape error in %s-%s with Field %s: shapes must match. Try F - G(F.grid) or F(G.grid) - G.'\u001b[0m \u001b[1;33m%\u001b[0m \u001b[1;33m(\u001b[0m\u001b[0mself\u001b[0m\u001b[1;33m,\u001b[0m\u001b[0mother\u001b[0m\u001b[1;33m,\u001b[0m\u001b[0mself\u001b[0m\u001b[1;33m)\u001b[0m  \u001b[1;33m)\u001b[0m\u001b[1;33m\u001b[0m\u001b[0m\n\u001b[0m\u001b[0;32m   3135\u001b[0m \u001b[1;33m\u001b[0m\u001b[0m\n\u001b[0;32m   3136\u001b[0m \u001b[1;33m\u001b[0m\u001b[0m\n",
        "\u001b[1;31mException\u001b[0m: Field shape error in O_temp_sliced-O_temp_sliced with Field O_temp_sliced: shapes must match. Try F - G(F.grid) or F(G.grid) - G."
       ]
      }
     ],
     "prompt_number": 38
    },
    {
     "cell_type": "markdown",
     "metadata": {},
     "source": [
      "The error message provides a hint: regrid one term. regridding ```mTEMP[Z,0]``` onto ```sTEMP.gr``` expands the right term (by creating equal copies in the X direction, this is called broadcasting) to yield the right shape:"
     ]
    },
    {
     "cell_type": "code",
     "collapsed": false,
     "input": [
      "\n",
      "dTEMP = sTEMP - (sg.squeeze(mTEMP[Z,0])).regrid(sTEMP.grid)"
     ],
     "language": "python",
     "metadata": {},
     "outputs": [],
     "prompt_number": 39
    },
    {
     "cell_type": "code",
     "collapsed": false,
     "input": [
      "pl1 = sg.contourf(sg.squeeze(dTEMP), cmap = mpl.cm.RdYlBu_r)\n",
      "clb = plt.colorbar()\n",
      "clb.set_label('C')\n",
      "tle = plt.title('Sea Surface Temperature difference from zonal mean')"
     ],
     "language": "python",
     "metadata": {},
     "outputs": [
      {
       "metadata": {},
       "output_type": "display_data",
       "png": "[encoded data removed]",
       "text": [
        "<matplotlib.figure.Figure at 0xaecf874c>"
       ]
      }
     ],
     "prompt_number": 40
    },
    {
     "cell_type": "markdown",
     "metadata": {},
     "source": [
      "The North Atlantic is warmer than at similar Pacific latitudes, leading to a milder western European climate. A pronounced zonal temperature difference is also apparent in the tropical Pacific (related to the \"warm pool\")."
     ]
    },
    {
     "cell_type": "markdown",
     "metadata": {},
     "source": [
      "To compute the meridional streamfunction, we load the velocity in the y direction and apply the calculations in simple notation:"
     ]
    },
    {
     "cell_type": "code",
     "collapsed": false,
     "input": [
      "# Give the experiment objects convenient names E, E2:\n",
      "E = P['DPO'];E2 = P['DPC']\n",
      "varname = 'O_velY'\n",
      "\n",
      "# load velocity by netcdf name.\n",
      "P.load(varname)\n",
      "\n",
      "# obtain velocity as sg field object V from project.\n",
      "V = E[varname]\n",
      "V2 = E2[varname]\n",
      "\n",
      "# take the meridional stream function by taking zonal grid-integral X*V \n",
      "# and the vertical primitive of the result along Z using the pipe.\n",
      "PSI = Z|(X*V)*1e-6\n",
      "PSI2 = Z|(X*V2)*1e-6"
     ],
     "language": "python",
     "metadata": {},
     "outputs": [
      {
       "output_type": "stream",
       "stream": "stdout",
       "text": [
        "OK. Fetched Field O_velY for DPO. 1 file found.\n",
        "OK. Fetched Field O_velY for DPC. 1 file found."
       ]
      },
      {
       "output_type": "stream",
       "stream": "stdout",
       "text": [
        "\n",
        "O_velY for Lev.cdf could not be read.\n"
       ]
      }
     ],
     "prompt_number": 41
    },
    {
     "cell_type": "markdown",
     "metadata": {},
     "source": [
      "Now that we have the required fields, we can plot them. "
     ]
    },
    {
     "cell_type": "code",
     "collapsed": false,
     "input": [
      "lvls = np.arange(-100,100,4)\n",
      "xlims = [-80,70]\n",
      "ylims = [-4500., -0.]\n",
      "\n",
      "# --- start figure ---\n",
      "\n",
      "lbl = ord('a')\n",
      "\n",
      "pan = 0\n",
      "\n",
      "height = 2\n",
      "width = 1\n",
      "\n",
      "rows = 2\n",
      "cols = 1\n",
      "\n",
      "F = PSI\n",
      "ax = plt.subplot2grid((height, width), (int(np.floor(pan/cols)), pan%cols) )\n",
      "\n",
      "# use the sg wrapper for the contour function.\n",
      "cs= sg.contour(F,linestyles='solid',showland=True,levels = lvls,colors='k');\n",
      "\n",
      "plt.clabel(cs,fmt='%1.1f');\n",
      "\n",
      "plt.xlim(xlims)\n",
      "plt.ylim(ylims)\n",
      "plt.tick_params(axis='x',labelbottom='off')\n",
      "plt.xlabel('')\n",
      "plt.ylabel('Depth (m)')\n",
      "tle = plt.title('('+ chr(lbl) +') MOC Drake Passage open ')\n",
      "\n",
      "lbl += 1\n",
      "pan += 1\n",
      "\n",
      "F = PSI2\n",
      "ax = plt.subplot2grid((height, width), (int(np.floor(pan/cols)), pan%cols) )\n",
      "\n",
      "cs= sg.contour(F,linestyles='solid',showland=True,levels = lvls,colors='k');\n",
      "plt.clabel(cs,fmt='%1.1f');\n",
      "plt.xlim(xlims)\n",
      "plt.ylim(ylims)\n",
      "\n",
      "# Overiding the xlabel assigned by sg:\n",
      "plt.xlabel('Latitude')\n",
      "tle = plt.title('('+ chr(lbl) +') MOC Drake Passage closed ')\n"
     ],
     "language": "python",
     "metadata": {},
     "outputs": [
      {
       "metadata": {},
       "output_type": "display_data",
       "png": "[encoded data removed]",
       "text": [
        "<matplotlib.figure.Figure at 0xaeb0f76c>"
       ]
      }
     ],
     "prompt_number": 42
    },
    {
     "cell_type": "markdown",
     "metadata": {},
     "source": [
      "There is strong southern sinking in the DP closed case, and a switch to northern sinking in the DP open case. That's why there was warming in the NH."
     ]
    },
    {
     "cell_type": "markdown",
     "metadata": {},
     "source": [
      "Again, the Atlantic MOC can be computed by using the ```maskout``` of Fields, using ```V_masked = V[Y,33:].maskout(node = (X,85,Y,30) )``` instead of ```V``` (see above description for zonal temperature mean). See our special recipy for this."
     ]
    },
    {
     "cell_type": "markdown",
     "metadata": {},
     "source": [
      "Field concatenation is done with the concatenate function, similar to Numpy. If we split surface air temperature ```SAT``` latitudinally into three pieces:"
     ]
    },
    {
     "cell_type": "code",
     "collapsed": false,
     "input": [
      "SAT1=SAT[Y,:40];SAT2=SAT[Y,40:50];SAT3=SAT[Y,50:]"
     ],
     "language": "python",
     "metadata": {},
     "outputs": [],
     "prompt_number": 43
    },
    {
     "cell_type": "markdown",
     "metadata": {},
     "source": [
      "And re-assemble along the default axis ```ax = None```, sg will guess to use the incomplete (differing) axes:"
     ]
    },
    {
     "cell_type": "code",
     "collapsed": false,
     "input": [
      "SAT_cat = sg.concatenate([SAT1,SAT2,SAT3])"
     ],
     "language": "python",
     "metadata": {},
     "outputs": [],
     "prompt_number": 44
    },
    {
     "cell_type": "markdown",
     "metadata": {},
     "source": [
      "(This yields the same result as ```sg.concatenate([SAT1,SAT2,SAT3],ax=Y)```.) Drawing the zonal mean shows that ```SAT``` has been re-assembled correctly:"
     ]
    },
    {
     "cell_type": "code",
     "collapsed": false,
     "input": [
      "(SAT_cat/X).draw()"
     ],
     "language": "python",
     "metadata": {},
     "outputs": [
      {
       "metadata": {},
       "output_type": "pyout",
       "prompt_number": 45,
       "text": [
        "([<matplotlib.lines.Line2D at 0xaea1806c>], None)"
       ]
      },
      {
       "metadata": {},
       "output_type": "display_data",
       "png": "[encoded data removed]",
       "text": [
        "<matplotlib.figure.Figure at 0xb0838ecc>"
       ]
      }
     ],
     "prompt_number": 45
    },
    {
     "cell_type": "markdown",
     "metadata": {},
     "source": [
      "If multiple files are found in an experiment directory, and they contain the same field, sg will assume they are pieces of the same field and concatenate them upon loading. An example would be files containing different time slices of the same field (e.g. temperature)."
     ]
    },
    {
     "cell_type": "markdown",
     "metadata": {},
     "source": [
      "Tip: field objects have a squeeze and unsqueeze method: use help to learn more about them. Fields are squeezed upon loading and unsqueezed when saved."
     ]
    },
    {
     "cell_type": "heading",
     "level": 3,
     "metadata": {},
     "source": [
      "Grids and coord objects"
     ]
    },
    {
     "cell_type": "markdown",
     "metadata": {},
     "source": [
      "Grid (```Gr```) objects model the grids on which the field data is defined. They consist of tuples containing ```Coord``` objects. ```Coord``` objects consist of points along an axis and are read and named from the Netcdf files. To bring these objects into the namespace under their own name: "
     ]
    },
    {
     "cell_type": "code",
     "collapsed": false,
     "input": [
      "for c in E.cstack:\n",
      "  exec c.name +' = c'"
     ],
     "language": "python",
     "metadata": {},
     "outputs": [],
     "prompt_number": 46
    },
    {
     "cell_type": "markdown",
     "metadata": {},
     "source": [
      "This allows us to reference the ```Coord``` objects built from the Netcdf file by the names extracted from the metadata:"
     ]
    },
    {
     "cell_type": "code",
     "collapsed": false,
     "input": [
      "depth[:] # depth coordinate points"
     ],
     "language": "python",
     "metadata": {},
     "outputs": [
      {
       "metadata": {},
       "output_type": "pyout",
       "prompt_number": 47,
       "text": [
        "array([   17.5,    82.5,   177.5,   302.5,   457.5,   642.5,   857.5,\n",
        "        1102.5,  1377.5,  1682.5,  2017.5,  2382.5,  2777.5,  3202.5,\n",
        "        3657.5,  4142.5,  4657.5,  5202.5,  5777.5])"
       ]
      }
     ],
     "prompt_number": 47
    },
    {
     "cell_type": "code",
     "collapsed": false,
     "input": [
      "latitude[:10] # latitudinal coordinate points (truncated)"
     ],
     "language": "python",
     "metadata": {},
     "outputs": [
      {
       "metadata": {},
       "output_type": "pyout",
       "prompt_number": 48,
       "text": [
        "array([-89.09999847, -87.30000305, -85.5       , -83.69999695,\n",
        "       -81.90000153, -80.09999847, -78.30000305, -76.5       ,\n",
        "       -74.69999695, -72.90000153])"
       ]
      }
     ],
     "prompt_number": 48
    },
    {
     "cell_type": "markdown",
     "metadata": {},
     "source": [
      "The result of the ```__getitem__``` method here is the ndarray containing the data of the coordinate points. It is important to realize that these ```coord``` names (depth, latitude etc) have been read from the Netcdf file and have not been hard coded into Spacegrids. "
     ]
    },
    {
     "cell_type": "markdown",
     "metadata": {},
     "source": [
      "A shorthand for grid construction from ```Coord``` objects is via multiplication:"
     ]
    },
    {
     "cell_type": "code",
     "collapsed": false,
     "input": [
      "latitude*longitude"
     ],
     "language": "python",
     "metadata": {},
     "outputs": [
      {
       "metadata": {},
       "output_type": "pyout",
       "prompt_number": 49,
       "text": [
        "(latitude, longitude)"
       ]
      }
     ],
     "prompt_number": 49
    },
    {
     "cell_type": "code",
     "collapsed": false,
     "input": [
      "latitude*longitude*depth"
     ],
     "language": "python",
     "metadata": {},
     "outputs": [
      {
       "metadata": {},
       "output_type": "pyout",
       "prompt_number": 50,
       "text": [
        "(latitude, longitude, depth)"
       ]
      }
     ],
     "prompt_number": 50
    },
    {
     "cell_type": "markdown",
     "metadata": {},
     "source": [
      "The latter 3 dimensional grid is associated with ndarray data where the first index represents latitude, the second longitude and the third depth. Field objects contain a grid object that is always congruent with the ndarray holding the field data. The grid objects contained in fields are used to always ensure data alignment, for instance under multiplication."
     ]
    },
    {
     "cell_type": "markdown",
     "metadata": {},
     "source": [
      "Coord objects and grid objects are not the same. To construct a one dimensional ```Gr``` (grid) object: "
     ]
    },
    {
     "cell_type": "code",
     "collapsed": false,
     "input": [
      "latitude**2"
     ],
     "language": "python",
     "metadata": {},
     "outputs": [
      {
       "metadata": {},
       "output_type": "pyout",
       "prompt_number": 51,
       "text": [
        "(latitude)"
       ]
      }
     ],
     "prompt_number": 51
    },
    {
     "cell_type": "heading",
     "level": 3,
     "metadata": {},
     "source": [
      "Axis alignment"
     ]
    },
    {
     "cell_type": "markdown",
     "metadata": {},
     "source": [
      "We had:"
     ]
    },
    {
     "cell_type": "code",
     "collapsed": false,
     "input": [
      "TEMP.grid"
     ],
     "language": "python",
     "metadata": {},
     "outputs": [
      {
       "metadata": {},
       "output_type": "pyout",
       "prompt_number": 52,
       "text": [
        "(depth, latitude, longitude)"
       ]
      }
     ],
     "prompt_number": 52
    },
    {
     "cell_type": "markdown",
     "metadata": {},
     "source": [
      "With data in the ndarray:"
     ]
    },
    {
     "cell_type": "code",
     "collapsed": false,
     "input": [
      "(TEMP[:]).shape"
     ],
     "language": "python",
     "metadata": {},
     "outputs": [
      {
       "metadata": {},
       "output_type": "pyout",
       "prompt_number": 53,
       "text": [
        "(19, 100, 100)"
       ]
      }
     ],
     "prompt_number": 53
    },
    {
     "cell_type": "markdown",
     "metadata": {},
     "source": [
      "where we recognise the length of the depth coord as 19: "
     ]
    },
    {
     "cell_type": "code",
     "collapsed": false,
     "input": [
      "len(depth[:])"
     ],
     "language": "python",
     "metadata": {},
     "outputs": [
      {
       "metadata": {},
       "output_type": "pyout",
       "prompt_number": 54,
       "text": [
        "19"
       ]
      }
     ],
     "prompt_number": 54
    },
    {
     "cell_type": "markdown",
     "metadata": {},
     "source": [
      "Rearrangement of the coordinates:"
     ]
    },
    {
     "cell_type": "code",
     "collapsed": false,
     "input": [
      "TEMP_shuffled = TEMP(latitude*longitude*depth)\n",
      "TEMP_shuffled.grid"
     ],
     "language": "python",
     "metadata": {},
     "outputs": [
      {
       "metadata": {},
       "output_type": "pyout",
       "prompt_number": 55,
       "text": [
        "(latitude, longitude, depth)"
       ]
      }
     ],
     "prompt_number": 55
    },
    {
     "cell_type": "code",
     "collapsed": false,
     "input": [
      "(TEMP_shuffled[:]).shape"
     ],
     "language": "python",
     "metadata": {},
     "outputs": [
      {
       "metadata": {},
       "output_type": "pyout",
       "prompt_number": 56,
       "text": [
        "(100, 100, 19)"
       ]
      }
     ],
     "prompt_number": 56
    },
    {
     "cell_type": "markdown",
     "metadata": {},
     "source": [
      "Data axis alignment is automatic. For instance, multiplying temperature with velocity:"
     ]
    },
    {
     "cell_type": "code",
     "collapsed": false,
     "input": [
      "F = TEMP*V"
     ],
     "language": "python",
     "metadata": {},
     "outputs": [],
     "prompt_number": 57
    },
    {
     "cell_type": "code",
     "collapsed": false,
     "input": [
      "F.grid"
     ],
     "language": "python",
     "metadata": {},
     "outputs": [
      {
       "metadata": {},
       "output_type": "pyout",
       "prompt_number": 58,
       "text": [
        "(depth, latitude, longitude)"
       ]
      }
     ],
     "prompt_number": 58
    },
    {
     "cell_type": "markdown",
     "metadata": {},
     "source": [
      "Multiplication alignment works regardless of the order of the coordinates:"
     ]
    },
    {
     "cell_type": "code",
     "collapsed": false,
     "input": [
      "F2 = TEMP_shuffled*V\n",
      "F2.grid"
     ],
     "language": "python",
     "metadata": {},
     "outputs": [
      {
       "metadata": {},
       "output_type": "pyout",
       "prompt_number": 59,
       "text": [
        "(latitude, longitude, depth)"
       ]
      }
     ],
     "prompt_number": 59
    },
    {
     "cell_type": "markdown",
     "metadata": {},
     "source": [
      "Here, ```V``` is actually defined on a different grid: the velocity grid:"
     ]
    },
    {
     "cell_type": "code",
     "collapsed": false,
     "input": [
      "V.grid"
     ],
     "language": "python",
     "metadata": {},
     "outputs": [
      {
       "metadata": {},
       "output_type": "pyout",
       "prompt_number": 60,
       "text": [
        "(depth, latitude_V, longitude_V)"
       ]
      }
     ],
     "prompt_number": 60
    },
    {
     "cell_type": "markdown",
     "metadata": {},
     "source": [
      "Why then is the result of ```TEMP*V``` defined on the temperature grid? This is because multiplication automatically triggers interpolation of the right multiplicant to the grid of the left multiplicant. Vice versa:"
     ]
    },
    {
     "cell_type": "code",
     "collapsed": false,
     "input": [
      "(V*TEMP).grid"
     ],
     "language": "python",
     "metadata": {},
     "outputs": [
      {
       "metadata": {},
       "output_type": "pyout",
       "prompt_number": 61,
       "text": [
        "(depth, latitude_V, longitude_V)"
       ]
      }
     ],
     "prompt_number": 61
    },
    {
     "cell_type": "heading",
     "level": 3,
     "metadata": {},
     "source": [
      "Axis objects"
     ]
    },
    {
     "cell_type": "markdown",
     "metadata": {},
     "source": [
      "The objects ```P['DPO']```, ```P['DPC']``` and ```P['Lev']``` are experiment objects, and correspond to the directories containing the Netcdf files. Different data (\"experiment\") files may contain data defined on different grid and use different coordinate naming conventions. A list of the coord objects associated with an experiment object is accessed from the .cstack attribute:"
     ]
    },
    {
     "cell_type": "code",
     "collapsed": false,
     "input": [
      "P['Lev.cdf'].cstack"
     ],
     "language": "python",
     "metadata": {},
     "outputs": [
      {
       "metadata": {},
       "output_type": "pyout",
       "prompt_number": 62,
       "text": [
        "[X_crd, Z_crd, Y_crd]"
       ]
      }
     ],
     "prompt_number": 62
    },
    {
     "cell_type": "code",
     "collapsed": false,
     "input": [
      "P['DPO'].cstack[:4] # truncated list of coord objects"
     ],
     "language": "python",
     "metadata": {},
     "outputs": [
      {
       "metadata": {},
       "output_type": "pyout",
       "prompt_number": 63,
       "text": [
        "[time, longitude, longitude_edges, latitude]"
       ]
      }
     ],
     "prompt_number": 63
    },
    {
     "cell_type": "markdown",
     "metadata": {},
     "source": [
      "The depth coordinates differ for the model and the observational data."
     ]
    },
    {
     "cell_type": "markdown",
     "metadata": {},
     "source": [
      "However, both coord objects point in the same direction: ```Z```. The name (\"Z\") of this direction has also been read from the Netcdf files. This is encapsulated in the ```ax``` class (axis)."
     ]
    },
    {
     "cell_type": "code",
     "collapsed": false,
     "input": [
      "depth.axis"
     ],
     "language": "python",
     "metadata": {},
     "outputs": [
      {
       "metadata": {},
       "output_type": "pyout",
       "prompt_number": 64,
       "text": [
        "Z"
       ]
      }
     ],
     "prompt_number": 64
    },
    {
     "cell_type": "markdown",
     "metadata": {},
     "source": [
      "Multiplication of a ```Gr``` (grid) with an ```Ax``` object (representing an axis) picks the ```Coord``` component along that axis."
     ]
    },
    {
     "cell_type": "code",
     "collapsed": false,
     "input": [
      "X*(latitude*longitude)"
     ],
     "language": "python",
     "metadata": {},
     "outputs": [
      {
       "metadata": {},
       "output_type": "pyout",
       "prompt_number": 65,
       "text": [
        "longitude"
       ]
      }
     ],
     "prompt_number": 65
    },
    {
     "cell_type": "markdown",
     "metadata": {},
     "source": [
      "We also saw the ```Ax``` object being used to calculate zonal means. In the following example, we load the surface heat flux, demonstrate some operations using ```Ax``` objects and compute the poleward heat transport."
     ]
    },
    {
     "cell_type": "code",
     "collapsed": false,
     "input": [
      "# load heat flux by netcdf name.\n",
      "P.load('F_heat')\n",
      "\n",
      "# obtain oceanic heat flux as sg field object HF from project.\n",
      "HF = P['DPO']['F_heat']\n",
      "HF2 = P['DPC']['F_heat']"
     ],
     "language": "python",
     "metadata": {},
     "outputs": [
      {
       "output_type": "stream",
       "stream": "stdout",
       "text": [
        "OK. Fetched Field F_heat for DPO. 1 file found.\n",
        "OK. Fetched Field F_heat for DPC. 1 file found.\n",
        "F_heat for Lev.cdf could not be read."
       ]
      },
      {
       "output_type": "stream",
       "stream": "stdout",
       "text": [
        "\n"
       ]
      }
     ],
     "prompt_number": 66
    },
    {
     "cell_type": "markdown",
     "metadata": {},
     "source": [
      "Again, ignore the harmless warning: the Lev data contains no heat flux data. The heat flux data is 2 dimensional, as can be seen from the grid:"
     ]
    },
    {
     "cell_type": "code",
     "collapsed": false,
     "input": [
      "HF.grid"
     ],
     "language": "python",
     "metadata": {},
     "outputs": [
      {
       "metadata": {},
       "output_type": "pyout",
       "prompt_number": 67,
       "text": [
        "(latitude, longitude)"
       ]
      }
     ],
     "prompt_number": 67
    },
    {
     "cell_type": "markdown",
     "metadata": {},
     "source": [
      "And looks like this:"
     ]
    },
    {
     "cell_type": "code",
     "collapsed": false,
     "input": [
      "pl = sg.contourf(HF,levels = range(-200,200,20),cmap = mpl.cm.RdYlBu)\n",
      "clb = plt.colorbar()\n",
      "clb.set_label(HF.units)"
     ],
     "language": "python",
     "metadata": {},
     "outputs": [
      {
       "metadata": {},
       "output_type": "display_data",
       "png": "[encoded data removed]",
       "text": [
        "<matplotlib.figure.Figure at 0xaf7ee96c>"
       ]
      }
     ],
     "prompt_number": 68
    },
    {
     "cell_type": "markdown",
     "metadata": {},
     "source": [
      "Shift fields by reference to the ```Ax``` objects:"
     ]
    },
    {
     "cell_type": "code",
     "collapsed": false,
     "input": [
      "HF_shifted = sg.roll(HF,coord = X,shift = 50)"
     ],
     "language": "python",
     "metadata": {},
     "outputs": [],
     "prompt_number": 69
    },
    {
     "cell_type": "code",
     "collapsed": false,
     "input": [
      "pl = sg.contourf(HF_shifted,levels = range(-200,200,20),cmap = mpl.cm.RdYlBu)\n",
      "clb = plt.colorbar()\n",
      "clb.set_label(HF.units)"
     ],
     "language": "python",
     "metadata": {},
     "outputs": [
      {
       "metadata": {},
       "output_type": "display_data",
       "png": "[encoded data removed]",
       "text": [
        "<matplotlib.figure.Figure at 0xaf90ad6c>"
       ]
      }
     ],
     "prompt_number": 70
    },
    {
     "cell_type": "code",
     "collapsed": false,
     "input": [
      "HF_shifted.grid"
     ],
     "language": "python",
     "metadata": {},
     "outputs": [
      {
       "metadata": {},
       "output_type": "pyout",
       "prompt_number": 71,
       "text": [
        "(latitude, longitude_rolled)"
       ]
      }
     ],
     "prompt_number": 71
    },
    {
     "cell_type": "markdown",
     "metadata": {},
     "source": [
      "Note that the grid is updated along with the data (the zero meridian still passes through Greenwich), resulting in a different grid (```longitude_rolled``` appears in place of ```longitude```). This behaviour can be disabled."
     ]
    },
    {
     "cell_type": "markdown",
     "metadata": {},
     "source": [
      "Compute the zonal integral (using multiplication notation ```HF*X```) followed by the primitive in the ```Y``` direction (using the pipe | notation):"
     ]
    },
    {
     "cell_type": "code",
     "collapsed": false,
     "input": [
      "# Determine the total oceanic poleward heat transport via the y-primitive and X-intergral, and scale to Petawatt.\n",
      "\n",
      "PHT = Y|(HF*X)*1e-15\n",
      "PHT2 = Y|(HF2*X)*1e-15"
     ],
     "language": "python",
     "metadata": {},
     "outputs": [],
     "prompt_number": 72
    },
    {
     "cell_type": "code",
     "collapsed": false,
     "input": [
      "pl1, = sg.plot(PHT,color = 'b');\n",
      "pl2, = sg.plot(PHT2,color='r');\n",
      "\n",
      "plt.grid()\n",
      "plt.xlim([-80.,80.])\n",
      "plt.xticks([-60,-30,0,30,60])\n",
      "plt.ylabel('PW')\n",
      "tle = plt.title(' Ocean PHT (PW) ')\n",
      "lgnd = plt.legend([pl1,pl2],['DP open','DP closed'],loc=2)"
     ],
     "language": "python",
     "metadata": {},
     "outputs": [
      {
       "metadata": {},
       "output_type": "display_data",
       "png": "[encoded data removed]",
       "text": [
        "<matplotlib.figure.Figure at 0xac94cd2c>"
       ]
      }
     ],
     "prompt_number": 73
    },
    {
     "cell_type": "markdown",
     "metadata": {},
     "source": [
      "Interesting, the Drake Passage closed configuration has more southward poleward heat transport. We could have used the ```coord``` names to compute the PHT:"
     ]
    },
    {
     "cell_type": "code",
     "collapsed": false,
     "input": [
      "PHT = latitude|(HF*longitude)*1e-15"
     ],
     "language": "python",
     "metadata": {},
     "outputs": [],
     "prompt_number": 74
    },
    {
     "cell_type": "markdown",
     "metadata": {},
     "source": [
      "The axis names X,Y,... are a shorthand for these coord names, and are easier to use. "
     ]
    },
    {
     "cell_type": "heading",
     "level": 3,
     "metadata": {},
     "source": [
      "More grid operations"
     ]
    },
    {
     "cell_type": "markdown",
     "metadata": {},
     "source": [
      "Operations such as derivatives and integration are methods of the ```coord``` class:"
     ]
    },
    {
     "cell_type": "code",
     "collapsed": false,
     "input": [
      "latitude.der # the derivative on the sphere in the latitudinal direction"
     ],
     "language": "python",
     "metadata": {},
     "outputs": [
      {
       "metadata": {},
       "output_type": "pyout",
       "prompt_number": 75,
       "text": [
        "<bound method YCoord.der of latitude>"
       ]
      }
     ],
     "prompt_number": 75
    },
    {
     "cell_type": "code",
     "collapsed": false,
     "input": [
      "X.der"
     ],
     "language": "python",
     "metadata": {},
     "outputs": [
      {
       "metadata": {},
       "output_type": "pyout",
       "prompt_number": 76,
       "text": [
        "<bound method Ax.der of X>"
       ]
      }
     ],
     "prompt_number": 76
    },
    {
     "cell_type": "code",
     "collapsed": false,
     "input": [
      "HF_shifted2 = longitude.coord_shift(HF,50)"
     ],
     "language": "python",
     "metadata": {},
     "outputs": [],
     "prompt_number": 77
    },
    {
     "cell_type": "code",
     "collapsed": false,
     "input": [
      "HF_shifted2.grid"
     ],
     "language": "python",
     "metadata": {},
     "outputs": [
      {
       "metadata": {},
       "output_type": "pyout",
       "prompt_number": 78,
       "text": [
        "(latitude, longitude_rolled)"
       ]
      }
     ],
     "prompt_number": 78
    },
    {
     "cell_type": "markdown",
     "metadata": {},
     "source": [
      "Do we get the same result from both shifts? This is a shorthand to access the X ```coord``` of ```HF_shifted2```:"
     ]
    },
    {
     "cell_type": "code",
     "collapsed": false,
     "input": [
      "# obtain coord in X direction\n",
      "X*(HF_shifted2.grid) "
     ],
     "language": "python",
     "metadata": {},
     "outputs": [
      {
       "metadata": {},
       "output_type": "pyout",
       "prompt_number": 79,
       "text": [
        "longitude_rolled"
       ]
      }
     ],
     "prompt_number": 79
    },
    {
     "cell_type": "markdown",
     "metadata": {},
     "source": [
      "The two shifted ```coord``` objects are different objects"
     ]
    },
    {
     "cell_type": "code",
     "collapsed": false,
     "input": [
      "# compare the ndarray content of the X components of the two shifted grids\n",
      "X*(HF_shifted2.grid) == X*(HF_shifted.grid)"
     ],
     "language": "python",
     "metadata": {},
     "outputs": [
      {
       "metadata": {},
       "output_type": "pyout",
       "prompt_number": 80,
       "text": [
        "False"
       ]
      }
     ],
     "prompt_number": 80
    },
    {
     "cell_type": "markdown",
     "metadata": {},
     "source": [
      "But contain the same values:"
     ]
    },
    {
     "cell_type": "code",
     "collapsed": false,
     "input": [
      "((X*(HF_shifted2.grid))[:] == (X*(HF_shifted.grid))[:]).all()"
     ],
     "language": "python",
     "metadata": {},
     "outputs": [
      {
       "metadata": {},
       "output_type": "pyout",
       "prompt_number": 81,
       "text": [
        "True"
       ]
      }
     ],
     "prompt_number": 81
    },
    {
     "cell_type": "markdown",
     "metadata": {},
     "source": [
      "Other derived ```Coord``` objects are obtained from slicing:"
     ]
    },
    {
     "cell_type": "code",
     "collapsed": false,
     "input": [
      "HF_sliced = HF_shifted[Y,:36]"
     ],
     "language": "python",
     "metadata": {},
     "outputs": [],
     "prompt_number": 82
    },
    {
     "cell_type": "code",
     "collapsed": false,
     "input": [
      "pl = sg.contourf(HF_sliced,levels = range(-200,200,20),cmap = mpl.cm.RdYlBu)\n",
      "clb = plt.colorbar()\n",
      "clb.set_label(HF.units)\n",
      "tle = plt.title('Heat flux in Southern Ocean')"
     ],
     "language": "python",
     "metadata": {},
     "outputs": [
      {
       "metadata": {},
       "output_type": "display_data",
       "png": "[encoded data removed]",
       "text": [
        "<matplotlib.figure.Figure at 0xaf7818ac>"
       ]
      }
     ],
     "prompt_number": 83
    },
    {
     "cell_type": "markdown",
     "metadata": {},
     "source": [
      "Similar to the roll function, slicing gives a new grid:"
     ]
    },
    {
     "cell_type": "code",
     "collapsed": false,
     "input": [
      "HF3 = HF[X,:50,Y,:36]"
     ],
     "language": "python",
     "metadata": {},
     "outputs": [],
     "prompt_number": 84
    },
    {
     "cell_type": "code",
     "collapsed": false,
     "input": [
      "HF3.grid"
     ],
     "language": "python",
     "metadata": {},
     "outputs": [
      {
       "metadata": {},
       "output_type": "pyout",
       "prompt_number": 85,
       "text": [
        "(latitude_sliced, longitude_sliced)"
       ]
      }
     ],
     "prompt_number": 85
    },
    {
     "cell_type": "code",
     "collapsed": false,
     "input": [
      "len(Y*HF3.grid)"
     ],
     "language": "python",
     "metadata": {},
     "outputs": [
      {
       "metadata": {},
       "output_type": "pyout",
       "prompt_number": 86,
       "text": [
        "36"
       ]
      }
     ],
     "prompt_number": 86
    },
    {
     "cell_type": "markdown",
     "metadata": {},
     "source": [
      "The sum method of a ```Coord``` object only sums the ```ndarray``` content of a ```Field```:"
     ]
    },
    {
     "cell_type": "code",
     "collapsed": false,
     "input": [
      "sTEMP = longitude.sum(TEMP)\n",
      "sTEMP.grid"
     ],
     "language": "python",
     "metadata": {},
     "outputs": [
      {
       "metadata": {},
       "output_type": "pyout",
       "prompt_number": 87,
       "text": [
        "(depth, latitude)"
       ]
      }
     ],
     "prompt_number": 87
    },
    {
     "cell_type": "markdown",
     "metadata": {},
     "source": [
      "Similar to Pandas, the NaN (```np.nan```) values are not counted in these operations. Similarly, the vsum method is the sum weighted with the volumes (lengths, areas) of the grid cells:"
     ]
    },
    {
     "cell_type": "code",
     "collapsed": false,
     "input": [
      "help(longitude.vsum)"
     ],
     "language": "python",
     "metadata": {},
     "outputs": [
      {
       "output_type": "stream",
       "stream": "stdout",
       "text": [
        "Help on method vsum in module spacegrids.fieldcls:\n",
        "\n",
        "vsum(self, F) method of spacegrids.fieldcls.XCoord instance\n",
        "    Sums Field along self Coord, weighted with grid cell width (using self.d(), called by self.vol(F.grid)). Note: due to possible dependence of one Coord on the other, only use mean method of grid. There is no mean method for Coord objects.\n",
        "    \n",
        "    Method of Coord  that sums Field F along self Coord direction, weighted with the grid cell width. Calls sum method. See sum method.\n",
        "    \n",
        "    Calculation is self.sum(F*(self.vol(F.grid))). For grids with grid cell width depending on coordinates, use corresponding Gr methods.     \n",
        "    \n",
        "    Args:\n",
        "      F: (Field) field of certain dimension n to sum\n",
        "      \n",
        "    Returns:\n",
        "      Field of dimension n-1 or float if n=1. \n",
        "    \n",
        "    Raises:\n",
        "      ValueError: when Coord (self) is not in F.grid (grid of Field).\n",
        "\n"
       ]
      }
     ],
     "prompt_number": 88
    },
    {
     "cell_type": "markdown",
     "metadata": {},
     "source": [
      "Similar for cumsum and vcumsum."
     ]
    },
    {
     "cell_type": "markdown",
     "metadata": {},
     "source": [
      "Grid objects also have volume weighted sum methods. These methods are preferred over their ```Coord``` counterparts as coordinate cell dimensions may depend on other coordinates (e.g. the distance between longitudinal arcs diminishes towards the poles), and grid objects take care of this. "
     ]
    },
    {
     "cell_type": "code",
     "collapsed": false,
     "input": [
      "my_grid = latitude*longitude\n",
      "my_grid.vsum(TEMP)[:]"
     ],
     "language": "python",
     "metadata": {},
     "outputs": [
      {
       "metadata": {},
       "output_type": "pyout",
       "prompt_number": 89,
       "text": [
        "array([  6.43187995e+15,   5.82743640e+15,   4.73322880e+15,\n",
        "         3.79210234e+15,   3.00009346e+15,   2.34159369e+15,\n",
        "         1.79678076e+15,   1.34723259e+15,   1.01153068e+15,\n",
        "         8.09927754e+14,   6.79646188e+14,   5.63901912e+14,\n",
        "         4.67317201e+14,   3.97696671e+14,   3.17287739e+14,\n",
        "         2.27232412e+14,   1.43312843e+14,   8.57740304e+13,\n",
        "         3.19512842e+13])"
       ]
      }
     ],
     "prompt_number": 89
    },
    {
     "cell_type": "code",
     "collapsed": false,
     "input": [
      "my_grid.vsum(TEMP).grid"
     ],
     "language": "python",
     "metadata": {},
     "outputs": [
      {
       "metadata": {},
       "output_type": "pyout",
       "prompt_number": 90,
       "text": [
        "(depth)"
       ]
      }
     ],
     "prompt_number": 90
    },
    {
     "cell_type": "markdown",
     "metadata": {},
     "source": [
      "The volume of the domain of non NaN values inside TEMP is found from: "
     ]
    },
    {
     "cell_type": "code",
     "collapsed": false,
     "input": [
      "TEMP.grid.vsum(TEMP.ones())"
     ],
     "language": "python",
     "metadata": {},
     "outputs": [
      {
       "metadata": {},
       "output_type": "pyout",
       "prompt_number": 91,
       "text": [
        "1.3576934808828324e+18"
       ]
      }
     ],
     "prompt_number": 91
    },
    {
     "cell_type": "markdown",
     "metadata": {},
     "source": [
      "This can also be achieved with the multiplication notation:"
     ]
    },
    {
     "cell_type": "code",
     "collapsed": false,
     "input": [
      "TEMP.ones()*(X*Y*Z)"
     ],
     "language": "python",
     "metadata": {},
     "outputs": [
      {
       "metadata": {},
       "output_type": "pyout",
       "prompt_number": 92,
       "text": [
        "1.3576934808828324e+18"
       ]
      }
     ],
     "prompt_number": 92
    },
    {
     "cell_type": "markdown",
     "metadata": {},
     "source": [
      "The ```ones``` method of ```Field``` yields a new ```Field```, where all non- NaN values (of ```TEMP``` in this case) are set to 1 and the NaN values remain NaN. Here, the one values constitute the domain of ocean water, as NaN values indicate land (rock)."
     ]
    },
    {
     "cell_type": "markdown",
     "metadata": {},
     "source": [
      "This allows a calculation of the mean ocean temperature in the model:"
     ]
    },
    {
     "cell_type": "code",
     "collapsed": false,
     "input": [
      "TEMP.grid.vsum(TEMP)/TEMP.grid.vsum(TEMP.ones())"
     ],
     "language": "python",
     "metadata": {},
     "outputs": [
      {
       "metadata": {},
       "output_type": "pyout",
       "prompt_number": 93,
       "text": [
        "3.9464440090035096"
       ]
      }
     ],
     "prompt_number": 93
    },
    {
     "cell_type": "code",
     "collapsed": false,
     "input": [
      "# more succinctly:\n",
      "TEMP.grid.mean(TEMP)"
     ],
     "language": "python",
     "metadata": {},
     "outputs": [
      {
       "metadata": {},
       "output_type": "pyout",
       "prompt_number": 94,
       "text": [
        "3.9464440090035096"
       ]
      }
     ],
     "prompt_number": 94
    },
    {
     "cell_type": "markdown",
     "metadata": {},
     "source": [
      "This can also be achieved with the division notation:"
     ]
    },
    {
     "cell_type": "code",
     "collapsed": false,
     "input": [
      "TEMP/(X*Y*Z)"
     ],
     "language": "python",
     "metadata": {},
     "outputs": [
      {
       "metadata": {},
       "output_type": "pyout",
       "prompt_number": 95,
       "text": [
        "3.9464440090035096"
       ]
      }
     ],
     "prompt_number": 95
    },
    {
     "cell_type": "markdown",
     "metadata": {},
     "source": [
      "The ```Ax``` class has a derivative method:"
     ]
    },
    {
     "cell_type": "code",
     "collapsed": false,
     "input": [
      "# Calculate derivative in X direction:\n",
      "dTEMPdX = X.der(TEMP)\n",
      "dTEMPdX.grid"
     ],
     "language": "python",
     "metadata": {},
     "outputs": [
      {
       "metadata": {},
       "output_type": "pyout",
       "prompt_number": 96,
       "text": [
        "(depth, latitude, longitude)"
       ]
      }
     ],
     "prompt_number": 96
    },
    {
     "cell_type": "code",
     "collapsed": false,
     "input": [
      "# compute the vertical temperature profile and plot it.\n",
      "vpTEMP = TEMP/(Y*X)\n",
      "pl, = sg.plot(vpTEMP)\n",
      "lb = plt.xlabel('degrees C');tle = title('Vertical profile of average ocean temp')"
     ],
     "language": "python",
     "metadata": {},
     "outputs": [
      {
       "metadata": {},
       "output_type": "display_data",
       "png": "[encoded data removed]",
       "text": [
        "<matplotlib.figure.Figure at 0xac8c7dac>"
       ]
      }
     ],
     "prompt_number": 97
    },
    {
     "cell_type": "code",
     "collapsed": false,
     "input": [
      "# take the vertical derivative of the vertical temperature profile and plot it.\n",
      "pl, = sg.plot(Z.der(vpTEMP))\n",
      "lb = plt.xlabel('degs C per m');tle = plt.title('Vertical temperature gradient')"
     ],
     "language": "python",
     "metadata": {},
     "outputs": [
      {
       "metadata": {},
       "output_type": "display_data",
       "png": "[encoded data removed]",
       "text": [
        "<matplotlib.figure.Figure at 0xac3f840c>"
       ]
      }
     ],
     "prompt_number": 98
    },
    {
     "cell_type": "markdown",
     "metadata": {},
     "source": [
      "Another notation, involving ```Ax``` objects, uses the ^ (carat) symbol:"
     ]
    },
    {
     "cell_type": "code",
     "collapsed": false,
     "input": [
      "# test whether nparray content is the same. Excluding the first nan value.\n",
      "((Z^vpTEMP).value[1:] == (Z.der(vpTEMP)).value[1:]).all()"
     ],
     "language": "python",
     "metadata": {},
     "outputs": [
      {
       "metadata": {},
       "output_type": "pyout",
       "prompt_number": 99,
       "text": [
        "True"
       ]
      }
     ],
     "prompt_number": 99
    },
    {
     "cell_type": "markdown",
     "metadata": {},
     "source": [
      "The volume weighted cumulative sum method ```vcumsum``` of the ```Coord``` class, the primitive integral along that axis, is easily accessed with the pipe | notation and the ```ax``` class (here the instance ```Z```). In the latter case the name of the particular coord need not be known."
     ]
    },
    {
     "cell_type": "code",
     "collapsed": false,
     "input": [
      "# test whether the depth coord method vcumsum yields the same result as Z|\n",
      "(depth.vcumsum(vpTEMP)[:] == (Z|vpTEMP)[:]).all() "
     ],
     "language": "python",
     "metadata": {},
     "outputs": [
      {
       "metadata": {},
       "output_type": "pyout",
       "prompt_number": 100,
       "text": [
        "True"
       ]
      }
     ],
     "prompt_number": 100
    },
    {
     "cell_type": "heading",
     "level": 1,
     "metadata": {},
     "source": [
      "Operators, divergences and vector fields."
     ]
    },
    {
     "cell_type": "markdown",
     "metadata": {},
     "source": [
      "Spacegrids allows representations of vector fields (e.g. velocity fields). We're loading the zonal velocity to examine a 2 dimensional vector fields constructed from ```U``` and ```V```."
     ]
    },
    {
     "cell_type": "code",
     "collapsed": false,
     "input": [
      "# load the ocean velocity in the X direction.\n",
      "P.load('O_velX')"
     ],
     "language": "python",
     "metadata": {},
     "outputs": [
      {
       "output_type": "stream",
       "stream": "stdout",
       "text": [
        "OK. Fetched Field O_velX for DPO. 1 file found.\n",
        "OK. Fetched Field O_velX for DPC. 1 file found."
       ]
      },
      {
       "output_type": "stream",
       "stream": "stdout",
       "text": [
        "\n",
        "O_velX for Lev.cdf could not be read.\n"
       ]
      }
     ],
     "prompt_number": 101
    },
    {
     "cell_type": "markdown",
     "metadata": {},
     "source": [
      "Earlier, multiplication of two fields yielded a new field. In contrast, multiplying the two fields ```U``` and ```V``` does not result in a new field here. Instead, we get a container class holding the two fields. This container is the ```vfield``` class (vector field)."
     ]
    },
    {
     "cell_type": "code",
     "collapsed": false,
     "input": [
      "# obtain horizontal velocity fields\n",
      "U = P['DPC']['O_velX']\n",
      "V = P['DPO']['O_velY']\n",
      "# create a 2 dimensional vector field defined on 3 dimensional space\n",
      "my_vector_field = U*V\n",
      "my_vector_field"
     ],
     "language": "python",
     "metadata": {},
     "outputs": [
      {
       "metadata": {},
       "output_type": "pyout",
       "prompt_number": 102,
       "text": [
        "(O_velX, O_velY)"
       ]
      }
     ],
     "prompt_number": 102
    },
    {
     "cell_type": "markdown",
     "metadata": {},
     "source": [
      "Why do these fields behave differently under multiplication? Fields have a direction attribute:"
     ]
    },
    {
     "cell_type": "code",
     "collapsed": false,
     "input": [
      "U.direction"
     ],
     "language": "python",
     "metadata": {},
     "outputs": [
      {
       "metadata": {},
       "output_type": "pyout",
       "prompt_number": 103,
       "text": [
        "X"
       ]
      }
     ],
     "prompt_number": 103
    },
    {
     "cell_type": "code",
     "collapsed": false,
     "input": [
      "V.direction"
     ],
     "language": "python",
     "metadata": {},
     "outputs": [
      {
       "metadata": {},
       "output_type": "pyout",
       "prompt_number": 104,
       "text": [
        "Y"
       ]
      }
     ],
     "prompt_number": 104
    },
    {
     "cell_type": "code",
     "collapsed": false,
     "input": [
      "TEMP.direction"
     ],
     "language": "python",
     "metadata": {},
     "outputs": [
      {
       "metadata": {},
       "output_type": "pyout",
       "prompt_number": 105,
       "text": [
        "scalar"
       ]
      }
     ],
     "prompt_number": 105
    },
    {
     "cell_type": "markdown",
     "metadata": {},
     "source": [
      "The velocity fields ```U``` and ```V``` have directions ```X``` and ```Y```, obviously indicating the direction they are pointing in: they are \"directional\" fields. In contrast, temperature ```TEMP``` is marked as a scaler, this is a \"scalar\" field. In general, fields of like direction multiply to yield a new field containing the multiplied nparray data. For instance:"
     ]
    },
    {
     "cell_type": "code",
     "collapsed": false,
     "input": [
      "# This gives a field\n",
      "U*U"
     ],
     "language": "python",
     "metadata": {},
     "outputs": [
      {
       "metadata": {},
       "output_type": "pyout",
       "prompt_number": 106,
       "text": [
        "O_velX_times_O_velX"
       ]
      }
     ],
     "prompt_number": 106
    },
    {
     "cell_type": "markdown",
     "metadata": {},
     "source": [
      "This gives a vector field of the velocity components squared:"
     ]
    },
    {
     "cell_type": "code",
     "collapsed": false,
     "input": [
      "(U*V)*(U*V)"
     ],
     "language": "python",
     "metadata": {},
     "outputs": [
      {
       "metadata": {},
       "output_type": "pyout",
       "prompt_number": 107,
       "text": [
        "(O_velX_times_O_velX, O_velY_times_O_velY)"
       ]
      }
     ],
     "prompt_number": 107
    },
    {
     "cell_type": "markdown",
     "metadata": {},
     "source": [
      "Vector fields have a direction method that yields a container of the directions of its component fields."
     ]
    },
    {
     "cell_type": "code",
     "collapsed": false,
     "input": [
      "my_vector_field.direction()"
     ],
     "language": "python",
     "metadata": {},
     "outputs": [
      {
       "metadata": {},
       "output_type": "pyout",
       "prompt_number": 108,
       "text": [
        "(X,Y,)"
       ]
      }
     ],
     "prompt_number": 108
    },
    {
     "cell_type": "markdown",
     "metadata": {},
     "source": [
      "The sg module has its own wrapper to the quiver plot method of Matplotlib that takes vector fields."
     ]
    },
    {
     "cell_type": "markdown",
     "metadata": {},
     "source": [
      "The (field) ```Operator``` class and its derived classes (e.g. sg.Der, sg.Integ, sg.FieldMul etc.) allows the construction of operators that act on fields and vector fields. E.g. div and curl operators, etc. Ideas for useful operators are shown below. Operators, say ```K1``` and ```K2```, can be multiplied before they are applied. E.g. if ```K = K1*K2```, no evaluation has occurred yet, and evaluation yields: ```K*F = K1(K2(F))```. So ```K2``` acts on ```F``` first, then ```K1``` acts on the resulting field. the curl of a 2D vectorfield U*V would then be ```curl*(U*V)```. If ```U*V``` is defined on 3D space, the ```curl``` operator acts on each z-level. For instance, the X-derivative object can be instantiated as follows:"
     ]
    },
    {
     "cell_type": "code",
     "collapsed": false,
     "input": [
      "# Instatiate an X-derivative operator object\n",
      "ddX = sg.Der(X)\n",
      "ddX"
     ],
     "language": "python",
     "metadata": {},
     "outputs": [
      {
       "metadata": {},
       "output_type": "pyout",
       "prompt_number": 109,
       "text": [
        "<spacegrids.ops.Der at 0xac4b276c>"
       ]
      }
     ],
     "prompt_number": 109
    },
    {
     "cell_type": "code",
     "collapsed": false,
     "input": [
      "ddX*TEMP"
     ],
     "language": "python",
     "metadata": {},
     "outputs": [
      {
       "metadata": {},
       "output_type": "pyout",
       "prompt_number": 110,
       "text": [
        "O_temp"
       ]
      }
     ],
     "prompt_number": 110
    },
    {
     "cell_type": "markdown",
     "metadata": {},
     "source": [
      "This is equivalent to calling the ```ddX``` field operator object on ```TEMP```:"
     ]
    },
    {
     "cell_type": "code",
     "collapsed": false,
     "input": [
      "ddX(TEMP)"
     ],
     "language": "python",
     "metadata": {},
     "outputs": [
      {
       "metadata": {},
       "output_type": "pyout",
       "prompt_number": 111,
       "text": [
        "O_temp"
       ]
      }
     ],
     "prompt_number": 111
    },
    {
     "cell_type": "markdown",
     "metadata": {},
     "source": [
      "Applying field operators in succession:"
     ]
    },
    {
     "cell_type": "code",
     "collapsed": false,
     "input": [
      "ddX*ddX"
     ],
     "language": "python",
     "metadata": {},
     "outputs": [
      {
       "metadata": {},
       "output_type": "pyout",
       "prompt_number": 112,
       "text": [
        "<spacegrids.ops.Mul at 0xac47e3ac>"
       ]
      }
     ],
     "prompt_number": 112
    },
    {
     "cell_type": "markdown",
     "metadata": {},
     "source": [
      "Where:"
     ]
    },
    {
     "cell_type": "code",
     "collapsed": false,
     "input": [
      "# Create second order X-derivative\n",
      "d2dX2 = ddX*ddX\n",
      "# Apply it to the temperature field\n",
      "d2dX2*TEMP"
     ],
     "language": "python",
     "metadata": {},
     "outputs": [
      {
       "metadata": {},
       "output_type": "pyout",
       "prompt_number": 113,
       "text": [
        "O_temp"
       ]
      }
     ],
     "prompt_number": 113
    },
    {
     "cell_type": "markdown",
     "metadata": {},
     "source": [
      "This is the same as successive calls of ```ddX``` on the ```Field```:"
     ]
    },
    {
     "cell_type": "code",
     "collapsed": false,
     "input": [
      "# Succesive calls of the ddX object\n",
      "( (d2dX2*TEMP).value == ( ddX(ddX(TEMP)) ).value ).any()"
     ],
     "language": "python",
     "metadata": {},
     "outputs": [
      {
       "metadata": {},
       "output_type": "pyout",
       "prompt_number": 114,
       "text": [
        "True"
       ]
      }
     ],
     "prompt_number": 114
    },
    {
     "cell_type": "markdown",
     "metadata": {},
     "source": [
      "We could have obtained the Z derivative of the vertical temperature profile above with an operator class:"
     ]
    },
    {
     "cell_type": "code",
     "collapsed": false,
     "input": [
      "# Create Z-derivative object\n",
      "ddZ = sg.Der(Z)\n",
      "# Apply the derivative operator and plot the result\n",
      "pl, = sg.plot(ddZ*vpTEMP)\n",
      "lb = plt.xlabel('degs C per meter')"
     ],
     "language": "python",
     "metadata": {},
     "outputs": [
      {
       "metadata": {},
       "output_type": "display_data",
       "png": "[encoded data removed]",
       "text": [
        "<matplotlib.figure.Figure at 0xac4673ec>"
       ]
      }
     ],
     "prompt_number": 115
    },
    {
     "cell_type": "markdown",
     "metadata": {},
     "source": [
      "Another useful field operator is ```Pick```. It picks a component of a vector field:"
     ]
    },
    {
     "cell_type": "code",
     "collapsed": false,
     "input": [
      "sg.Pick(X)*my_vector_field"
     ],
     "language": "python",
     "metadata": {},
     "outputs": [
      {
       "metadata": {},
       "output_type": "pyout",
       "prompt_number": 116,
       "text": [
        "O_velX"
       ]
      }
     ],
     "prompt_number": 116
    },
    {
     "cell_type": "markdown",
     "metadata": {},
     "source": [
      "Here are definitions of some useful field operators:"
     ]
    },
    {
     "cell_type": "code",
     "collapsed": false,
     "input": [
      "ddX = sg.Der(X) # derivative in X\n",
      "ddY = sg.Der(Y) # etc\n",
      "ddZ = sg.Der(Z)\n",
      "\n",
      "pX = sg.Pick(X) # pick the component with direction X from vfield object (projection)\n",
      "pY = sg.Pick(Y) # etc.\n",
      "pZ = sg.Pick(Z)\n",
      "\n",
      "mX = sg.Mean(X) # take zonal mean of any field argument or right-multiplicant.\n",
      "mY = sg.Mean(Y) # etc\n",
      "mZ = sg.Mean(Z)\n",
      "\n",
      "sX = sg.Integ(X) # take integral\n",
      "sY = sg.Integ(Y)\n",
      "sZ = sg.Integ(Z)\n",
      "\n",
      "intX = sg.Prim(X) # take primitive function of any field argument\n",
      "intY = sg.Prim(Y)\n",
      "intZ = sg.Prim(Z)\n",
      "\n",
      "set2X = sg.SetDirection(X) # change the direction attribute of field argument to X\n",
      "set2Y = sg.SetDirection(Y)\n",
      "set2Z = sg.SetDirection(Z)\n",
      "set2scalar = sg.SetDirection(sg.ID())\n",
      "\n",
      "Avg = mZ*mX*mY  # a 3D average\n",
      "\n",
      "curl = ddX*set2scalar*pY - ddY*set2scalar*pX      #  curl operator expressed in basic operators\n",
      "\n",
      "div = ddX*set2scalar*pX + ddY*set2scalar*pY       # divergence \n",
      "\n",
      "div3 = ddX*set2scalar*pX + ddY*set2scalar*pY + ddZ*set2scalar*pZ\n",
      "\n",
      "grad = set2X*ddX + set2Y*ddY    # gradient. To be used on single field objects.\n"
     ],
     "language": "python",
     "metadata": {},
     "outputs": [],
     "prompt_number": 117
    },
    {
     "cell_type": "code",
     "collapsed": false,
     "input": [
      "# Take surface slices\n",
      "sU = U[Z,0]\n",
      "sV = V[Z,0]\n",
      "surface_vectors = sU*sV\n",
      "(div*surface_vectors).direction"
     ],
     "language": "python",
     "metadata": {},
     "outputs": [
      {
       "output_type": "stream",
       "stream": "stdout",
       "text": [
        "Duplicate grids. FYI: replacing right gr.\n"
       ]
      },
      {
       "metadata": {},
       "output_type": "pyout",
       "prompt_number": 118,
       "text": [
        "scalar"
       ]
      }
     ],
     "prompt_number": 118
    },
    {
     "cell_type": "code",
     "collapsed": false,
     "input": [
      "pl = sg.contourf(sg.squeeze((div*surface_vectors)[Y,10:-10]))"
     ],
     "language": "python",
     "metadata": {},
     "outputs": [
      {
       "metadata": {},
       "output_type": "display_data",
       "png": "[encoded data removed]",
       "text": [
        "<matplotlib.figure.Figure at 0xac3fbdac>"
       ]
      }
     ],
     "prompt_number": 119
    },
    {
     "cell_type": "markdown",
     "metadata": {},
     "source": [
      "<a href='http://nbviewer.ipython.org/github/willo12/spacegrids/blob/master/advanced.ipynb'> An advanced tutorial is here. </a>"
     ]
    }
   ],
   "metadata": {}
  }
 ]
}