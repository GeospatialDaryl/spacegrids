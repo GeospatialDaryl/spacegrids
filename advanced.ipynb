{
 "metadata": {
  "name": "advanced"
 },
 "nbformat": 3,
 "nbformat_minor": 0,
 "worksheets": [
  {
   "cells": [
    {
     "cell_type": "heading",
     "level": 1,
     "metadata": {},
     "source": [
      "Creating new coords from multiple experiments"
     ]
    },
    {
     "cell_type": "markdown",
     "metadata": {},
     "source": [
      "In this tutorial, we are going to construct new coord objects and their axes from parameters that vary across a range of experiments. Numerical model runs often involve configuration (control) files that specify the value of parameters used in the runs.  Here, we will look at two types of model runs, one where the Drake Passage is open, and one type where it is closed, equilibrated under a range of atmospheric CO2 values. The CO2 concentrations are specified in configuration files that we have saved alongside the Netcdf data in the experiment directories. First, import the modules:"
     ]
    },
    {
     "cell_type": "code",
     "collapsed": false,
     "input": [
      "import spacegrids as sg\n",
      "import numpy as np\n",
      "import matplotlib.pyplot as plt\n",
      "import os\n",
      "figsize(8,4)"
     ],
     "language": "python",
     "metadata": {},
     "outputs": [
      {
       "output_type": "stream",
       "stream": "stdout",
       "text": [
        "Using netCDF4\n"
       ]
      }
     ],
     "prompt_number": 1
    },
    {
     "cell_type": "markdown",
     "metadata": {},
     "source": [
      "Obtain a dictionary of available projects for easy reference:"
     ]
    },
    {
     "cell_type": "code",
     "collapsed": false,
     "input": [
      "D = sg.info()"
     ],
     "language": "python",
     "metadata": {},
     "outputs": [
      {
       "output_type": "stream",
       "stream": "stdout",
       "text": [
        "Projects rooted in PROJECTS\n",
        "----------\n",
        "DP                my_project        tmp              \n",
        "\n"
       ]
      }
     ],
     "prompt_number": 2
    },
    {
     "cell_type": "markdown",
     "metadata": {},
     "source": [
      "Initialize a project:"
     ]
    },
    {
     "cell_type": "code",
     "collapsed": false,
     "input": [
      "P = sg.project(D['DP'])"
     ],
     "language": "python",
     "metadata": {},
     "outputs": [
      {
       "output_type": "stream",
       "stream": "stdout",
       "text": [
        "Creating exp object GM_C_flat from /home/wim/PROJECTS/DP4/\n",
        "Creating exp object GM_C_1250ppm_flat from /home/wim/PROJECTS/DP4/\n",
        "Creating exp object GM_C_1000ppm_flat from /home/wim/PROJECTS/DP4/"
       ]
      },
      {
       "output_type": "stream",
       "stream": "stdout",
       "text": [
        "\n",
        "Creating exp object DPclsd_C_500ppm_flat from /home/wim/PROJECTS/DP4/\n",
        "Creating exp object DPclsd_C_1750ppm_flat from /home/wim/PROJECTS/DP4/"
       ]
      },
      {
       "output_type": "stream",
       "stream": "stdout",
       "text": [
        "\n",
        "Creating exp object GM_C_390ppm_flat from /home/wim/PROJECTS/DP4/\n",
        "Creating exp object DPclsd_C_750ppm_flat from /home/wim/PROJECTS/DP4/"
       ]
      },
      {
       "output_type": "stream",
       "stream": "stdout",
       "text": [
        "\n",
        "Creating exp object DPclsd_C_flat from /home/wim/PROJECTS/DP4/\n",
        "Creating exp object GM_C_2000ppm_flat from /home/wim/PROJECTS/DP4/"
       ]
      },
      {
       "output_type": "stream",
       "stream": "stdout",
       "text": [
        "\n",
        "Creating exp object GM_C_1750ppm_flat from /home/wim/PROJECTS/DP4/\n",
        "Creating exp object GM_C_1500ppm_flat from /home/wim/PROJECTS/DP4/"
       ]
      },
      {
       "output_type": "stream",
       "stream": "stdout",
       "text": [
        "\n",
        "Creating exp object DPclsd_C_1250ppm_flat from /home/wim/PROJECTS/DP4/\n",
        "Creating exp object DPclsd_C_1000ppm_flat from /home/wim/PROJECTS/DP4/"
       ]
      },
      {
       "output_type": "stream",
       "stream": "stdout",
       "text": [
        "\n",
        "Creating exp object DPclsd_C_2000ppm_flat from /home/wim/PROJECTS/DP4/\n",
        "Creating exp object GM_C_750ppm_flat from /home/wim/PROJECTS/DP4/"
       ]
      },
      {
       "output_type": "stream",
       "stream": "stdout",
       "text": [
        "\n",
        "Creating exp object GM_C_500ppm_flat from /home/wim/PROJECTS/DP4/\n",
        "Creating exp object DPclsd_C_390ppm_flat from /home/wim/PROJECTS/DP4/"
       ]
      },
      {
       "output_type": "stream",
       "stream": "stdout",
       "text": [
        "\n",
        "Creating exp object DPclsd_C_1500ppm_flat from /home/wim/PROJECTS/DP4/\n",
        "Trying to read mask using yt, xt for mask."
       ]
      },
      {
       "output_type": "stream",
       "stream": "stdout",
       "text": [
        "\n",
        "...no masks read in project init.\n"
       ]
      }
     ],
     "prompt_number": 3
    },
    {
     "cell_type": "markdown",
     "metadata": {},
     "source": [
      "Bring axes names X, Y, Z, T into namespace:"
     ]
    },
    {
     "cell_type": "code",
     "collapsed": false,
     "input": [
      "for c in P['GM_C_flat'].axes:\n",
      "    exec c.name + ' = c'"
     ],
     "language": "python",
     "metadata": {},
     "outputs": [],
     "prompt_number": 4
    },
    {
     "cell_type": "markdown",
     "metadata": {},
     "source": [
      "As can be seen from the names of created experiment objects, we have two types of experiments, the DP type and the GM type. The Drake Passage is closed in the DP type, whereas this ocean gateway is open in the GM type experiment. The experiment names also contain a CO2 concentration value (e.g. 750ppm), indicating the atmospheric CO2 concentration used in that run. In both experiment types, DP and GM, CO2 varies from 280ppm to 2000ppm. The Netcdf output data contains fields in equilibrium with each CO2 value. The CO2 values are not stored in the Netcdf files. Instead, they are specified in the original configuration files, named ```control.in```, used in the experiments:"
     ]
    },
    {
     "cell_type": "code",
     "collapsed": false,
     "input": [
      "ls /home/wim/PROJECTS/DP4/GM_C_flat/"
     ],
     "language": "python",
     "metadata": {},
     "outputs": [
      {
       "output_type": "stream",
       "stream": "stdout",
       "text": [
        "\u001b[0m\u001b[01;32mcontrol.in\u001b[0m*  \u001b[01;32mmk.in\u001b[0m*  time_mean.nc\r\n"
       ]
      }
     ],
     "prompt_number": 5
    },
    {
     "cell_type": "markdown",
     "metadata": {},
     "source": [
      "The control.in file looks like this:"
     ]
    },
    {
     "cell_type": "raw",
     "metadata": {},
     "source": [
      "$ tail control.in \n",
      " &hlmix  /\n",
      " &isopyc slmx=0.01, ahisop=4.e6, athkdf=4.e6, del_dm=0.4e-02, s_dm=0.1e-2 /\n",
      " &ppmix  /\n",
      " &smagnl /\n",
      " &adv_q  diffactor=50. /\n",
      " &co2    co2ccn=280. /\n",
      " &paleo  pyear=1850. /\n",
      " &ice    dampice=5., ice_yr=1850. /\n",
      " &veg    crops_yr=1850. /\n",
      " &mtlm   TIMESTEP=3600., INT_VEG=.true., VEG_EQUIL=.false. /\n",
      "$  "
     ]
    },
    {
     "cell_type": "markdown",
     "metadata": {},
     "source": [
      "The input parameter co2ccn is what we are looking for. Let's examine temperature:"
     ]
    },
    {
     "cell_type": "code",
     "collapsed": false,
     "input": [
      "P.load('temp')"
     ],
     "language": "python",
     "metadata": {},
     "outputs": [
      {
       "output_type": "stream",
       "stream": "stdout",
       "text": [
        "OK. Fetched field temp for DPclsd_C_1750ppm_flat. 1 file found.\n",
        "OK. Fetched field temp for DPclsd_C_1250ppm_flat. 1 file found.\n",
        "OK. Fetched field temp for GM_C_500ppm_flat. 1 file found."
       ]
      },
      {
       "output_type": "stream",
       "stream": "stdout",
       "text": [
        "\n",
        "OK. Fetched field temp for DPclsd_C_2000ppm_flat. 1 file found.\n",
        "OK. Fetched field temp for GM_C_2000ppm_flat. 1 file found.\n",
        "OK. Fetched field temp for GM_C_1000ppm_flat. 1 file found."
       ]
      },
      {
       "output_type": "stream",
       "stream": "stdout",
       "text": [
        "\n",
        "OK. Fetched field temp for GM_C_1500ppm_flat. 1 file found.\n",
        "OK. Fetched field temp for GM_C_1750ppm_flat. 1 file found.\n",
        "OK. Fetched field temp for GM_C_750ppm_flat. 1 file found."
       ]
      },
      {
       "output_type": "stream",
       "stream": "stdout",
       "text": [
        "\n",
        "OK. Fetched field temp for DPclsd_C_750ppm_flat. 1 file found.\n",
        "OK. Fetched field temp for DPclsd_C_1000ppm_flat. 1 file found."
       ]
      },
      {
       "output_type": "stream",
       "stream": "stdout",
       "text": [
        "\n",
        "OK. Fetched field temp for DPclsd_C_500ppm_flat. 1 file found.\n",
        "OK. Fetched field temp for DPclsd_C_390ppm_flat. 1 file found."
       ]
      },
      {
       "output_type": "stream",
       "stream": "stdout",
       "text": [
        "\n",
        "OK. Fetched field temp for GM_C_flat. 1 file found.\n",
        "OK. Fetched field temp for DPclsd_C_1500ppm_flat. 1 file found.\n",
        "OK. Fetched field temp for DPclsd_C_flat. 1 file found."
       ]
      },
      {
       "output_type": "stream",
       "stream": "stdout",
       "text": [
        "\n",
        "OK. Fetched field temp for GM_C_390ppm_flat. 1 file found.\n",
        "OK. Fetched field temp for GM_C_1250ppm_flat. 1 file found.\n"
       ]
      }
     ],
     "prompt_number": 6
    },
    {
     "cell_type": "markdown",
     "metadata": {},
     "source": [
      "The project ```insert``` method takes a function that takes an ```exper``` object as input and outputs a list of (name,value) tuple pairs. These pairs are subsequently inserted into the ```params``` dictionary attribute of each experiment object by the project ```insert``` method. In our case here, we use a function defined in ```sg``` that uses the ```path``` attribute to find the configuration file for that experiment, parse it, and insert the name/ value pairs into the ```params``` dictionary of that experiment. ```sg.read_control_func``` is actually a function that yields a function that reads the control file specified in the argument to ```sg.read_control_func```. ```sg.read_control_func('control.in')``` is then a function that is passed an ```exper``` object, and outputs a list of (name, value) pairs. Such functions can be passed to P.insert to be processed, where for each experiment in the project, the function is executed, and the resulting (name, value) pairs are inserted into the ```vars``` or ```params``` dictionaries of that experiment. We will encounter another such function, using regular expressions."
     ]
    },
    {
     "cell_type": "code",
     "collapsed": false,
     "input": [
      "P.insert(sg.read_control_func('control.in')) # read, parse and insert parameters from control.in "
     ],
     "language": "python",
     "metadata": {},
     "outputs": [],
     "prompt_number": 7
    },
    {
     "cell_type": "markdown",
     "metadata": {},
     "source": [
      "The value that we saw in the control.in file now appears in the ```params``` attribute of ```P['GM_C_flat']```:"
     ]
    },
    {
     "cell_type": "code",
     "collapsed": false,
     "input": [
      "P['GM_C_flat'].params['co2ccn'] # obtain the value of the 'co2ccn' param"
     ],
     "language": "python",
     "metadata": {},
     "outputs": [
      {
       "output_type": "pyout",
       "prompt_number": 8,
       "text": [
        "280.0"
       ]
      }
     ],
     "prompt_number": 8
    },
    {
     "cell_type": "markdown",
     "metadata": {},
     "source": [
      "The ```param2gr``` project method creates a new field defined on a grid containing a new ```coord``` object constructed from a specified parameter: "
     ]
    },
    {
     "cell_type": "code",
     "collapsed": false,
     "input": [
      "bigfield_DP = P.param2gr('co2ccn' , lambda x:x['temp'], 'DP*')  # do this for the DP type"
     ],
     "language": "python",
     "metadata": {},
     "outputs": [],
     "prompt_number": 9
    },
    {
     "cell_type": "markdown",
     "metadata": {},
     "source": [
      "Here, the parameter is ```co2ccn``` and the second argument is a function acting on an ```exper``` object (experiment), simply yielding the temp field contained by that ```exper```: in general, this function must take an experiment argument and yield a ```field``` object. A simple wildcard filter is applied in the last argument to obtain only results for the DP type runs. Similar for the GM type runs:"
     ]
    },
    {
     "cell_type": "code",
     "collapsed": false,
     "input": [
      "bigfield_GM = P.param2gr('co2ccn', lambda x:x['temp'], 'GM*') # do this for the GM type"
     ],
     "language": "python",
     "metadata": {},
     "outputs": [],
     "prompt_number": 10
    },
    {
     "cell_type": "markdown",
     "metadata": {},
     "source": [
      "This new bigger field ```bigfield_DP```, constructed from temp fields across a range of experiments has a 4 dimensional grid that includes the newly constructed ```co2ccn_crd``` coordinate:"
     ]
    },
    {
     "cell_type": "code",
     "collapsed": false,
     "input": [
      "bigfield_DP.gr"
     ],
     "language": "python",
     "metadata": {},
     "outputs": [
      {
       "output_type": "pyout",
       "prompt_number": 11,
       "text": [
        "(co2ccn_crd, zt, yt, xt)"
       ]
      }
     ],
     "prompt_number": 11
    },
    {
     "cell_type": "markdown",
     "metadata": {},
     "source": [
      "This new ```coord``` contains the CO2 values that we saw in the experiments: "
     ]
    },
    {
     "cell_type": "code",
     "collapsed": false,
     "input": [
      "bigfield_DP.gr[0][:]"
     ],
     "language": "python",
     "metadata": {},
     "outputs": [
      {
       "output_type": "pyout",
       "prompt_number": 12,
       "text": [
        "array([  280.,   390.,   500.,   750.,  1000.,  1250.,  1500.,  1750.,\n",
        "        2000.])"
       ]
      }
     ],
     "prompt_number": 12
    },
    {
     "cell_type": "markdown",
     "metadata": {},
     "source": [
      "Both bigfield fields contain temperature values over a range of CO2 concentrations. We can examine how the average bottom ocean temperatures (grid cells 17 to 19) depend on CO2 for the DP open and closed type experiments:"
     ]
    },
    {
     "cell_type": "code",
     "collapsed": false,
     "input": [
      "h1, = sg.plot(bigfield_DP[Z,17:]/(X*Y*Z) + sg.zero_kelvin)\n",
      "h2, = sg.plot(bigfield_GM[Z,17:]/(X*Y*Z) + sg.zero_kelvin)\n",
      "lbl = plt.ylabel('C')\n",
      "lbl = plt.xlabel('co2 ccn')\n",
      "tle = plt.title('Bottom ocean temperature for DP open and closed')\n",
      "lgnd = plt.legend([h1,h2],[\"DP closed\",\"DP open\"],loc=2)\n",
      "plt.grid()"
     ],
     "language": "python",
     "metadata": {},
     "outputs": [
      {
       "output_type": "stream",
       "stream": "stderr",
       "text": [
        " spacegrids/plotting.py:400: UserWarning:Label units not added: not a string. \n"
       ]
      },
      {
       "output_type": "display_data",
       "png": "[encoded data removed]"
      }
     ],
     "prompt_number": 13
    },
    {
     "cell_type": "markdown",
     "metadata": {},
     "source": [
      "Deep ocean temperature in the DP closed type is more sensitive!"
     ]
    },
    {
     "cell_type": "markdown",
     "metadata": {},
     "source": [
      "The file names (and therefore experiment names) used contain sufficient information to reconstruct the co2 values used in those runs. In some situations, we may not have access the configuration files used, and file names is all we can go by. Spacegrids contains several regular expression based methods (of the project class) that allow us to do this. First, the following regular expression extracts the co2 value from the experiment (file) names: "
     ]
    },
    {
     "cell_type": "code",
     "collapsed": false,
     "input": [
      "regexp = '[\\w_]+_(\\d+)ppm[\\w_]+'"
     ],
     "language": "python",
     "metadata": {},
     "outputs": [],
     "prompt_number": 14
    },
    {
     "cell_type": "markdown",
     "metadata": {},
     "source": [
      "The function ```sg.parse_fname_func``` takes this regular expression, and the intended parameter name, to use it to yield another function that extracts the parameter from the experiment (file) name using the regexp. This is similar to the file reading function discussed above. The resulting function is passed an ```exper``` object, and outputs a list of (name, value) pairs. Such functions can be passed to P.insert to be processed, where for each experiment in the project, the function is executed, and the resulting (name, value) pairs are inserted into the ```vars``` or ```params``` dictionaries of that experiment:  "
     ]
    },
    {
     "cell_type": "code",
     "collapsed": false,
     "input": [
      "P.insert(sg.parse_fname_func(regexp,parname='co2'))"
     ],
     "language": "python",
     "metadata": {},
     "outputs": [],
     "prompt_number": 15
    },
    {
     "cell_type": "markdown",
     "metadata": {},
     "source": [
      "This yields the following (unordered) list of co2 values, this time extracted from the experiment names (their filenames), without reading the configuration files:"
     ]
    },
    {
     "cell_type": "code",
     "collapsed": false,
     "input": [
      "[E.params['co2'] for E in P.expers.values() if 'DP' in E.name ]"
     ],
     "language": "python",
     "metadata": {},
     "outputs": [
      {
       "output_type": "pyout",
       "prompt_number": 16,
       "text": [
        "[1750.0, 1250.0, 2000.0, 750.0, 1000.0, 500.0, 390.0, 1500.0, None]"
       ]
      }
     ],
     "prompt_number": 16
    },
    {
     "cell_type": "markdown",
     "metadata": {},
     "source": [
      "The 280ppm value is absent (in fact, it corresponds to the None entry). This is because this value is not encoded in the 280 ppm DP experiment name ```DPclsd_C_flat```. This can be fixed by specifying the nomatch_fill argument: "
     ]
    },
    {
     "cell_type": "code",
     "collapsed": false,
     "input": [
      "P.insert(sg.parse_fname_func(regexp,parname='co2', nomatch_fill = '280ppm'))"
     ],
     "language": "python",
     "metadata": {},
     "outputs": [],
     "prompt_number": 17
    },
    {
     "cell_type": "code",
     "collapsed": false,
     "input": [
      "[E.params['co2'] for E in P.expers.values() if 'DP' in E.name ]"
     ],
     "language": "python",
     "metadata": {},
     "outputs": [
      {
       "output_type": "pyout",
       "prompt_number": 18,
       "text": [
        "[1750.0, 1250.0, 2000.0, 750.0, 1000.0, 500.0, 390.0, 1500.0, '280ppm']"
       ]
      }
     ],
     "prompt_number": 18
    },
    {
     "cell_type": "markdown",
     "metadata": {},
     "source": [
      "These co2 parameters can again be used to construct ```big_field_DP```:"
     ]
    },
    {
     "cell_type": "code",
     "collapsed": false,
     "input": [
      "big_field_DP = P.param2gr('co2' , lambda x:x['temp'], name_filter = 'DP*') "
     ],
     "language": "python",
     "metadata": {},
     "outputs": [],
     "prompt_number": 19
    },
    {
     "cell_type": "markdown",
     "metadata": {},
     "source": [
      "We have created the same big field again as before, but now we have constructed it by using the information contained in the file naming:"
     ]
    },
    {
     "cell_type": "code",
     "collapsed": false,
     "input": [
      "h1, = sg.plot(bigfield_DP[Z,17:]/(X*Y*Z) + sg.zero_kelvin)\n",
      "lbl = plt.ylabel('C')\n",
      "lbl = plt.xlabel('co2 ccn')"
     ],
     "language": "python",
     "metadata": {},
     "outputs": [
      {
       "output_type": "display_data",
       "png": "[encoded data removed]"
      }
     ],
     "prompt_number": 20
    },
    {
     "cell_type": "markdown",
     "metadata": {},
     "source": [
      "A shorthand for this regexp-based procedure is contained in the ```pattern2gr``` method:"
     ]
    },
    {
     "cell_type": "code",
     "collapsed": false,
     "input": [
      "bigfield_DP=P.pattern2gr(fld_name = 'temp',pattern = regexp,parname='co2', name_filter = 'DP*', nomatch_fill = 280.)"
     ],
     "language": "python",
     "metadata": {},
     "outputs": [],
     "prompt_number": 21
    },
    {
     "cell_type": "code",
     "collapsed": false,
     "input": [
      "bigfield_DP.gr[0][:]"
     ],
     "language": "python",
     "metadata": {},
     "outputs": [
      {
       "output_type": "pyout",
       "prompt_number": 22,
       "text": [
        "array([  280.,   390.,   500.,   750.,  1000.,  1250.,  1500.,  1750.,\n",
        "        2000.])"
       ]
      }
     ],
     "prompt_number": 22
    },
    {
     "cell_type": "code",
     "collapsed": false,
     "input": [],
     "language": "python",
     "metadata": {},
     "outputs": []
    }
   ],
   "metadata": {}
  }
 ]
}